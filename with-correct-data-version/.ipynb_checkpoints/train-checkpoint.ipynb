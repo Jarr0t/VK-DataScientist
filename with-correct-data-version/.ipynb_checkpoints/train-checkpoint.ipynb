{
 "cells": [
  {
   "cell_type": "markdown",
   "id": "d0078daa-7c67-4676-8bc9-286b9ca0dbc9",
   "metadata": {},
   "source": [
    "# Обучение модели"
   ]
  },
  {
   "cell_type": "code",
   "execution_count": 1,
   "id": "af979ca7-5113-460a-bb09-4eb07af23420",
   "metadata": {},
   "outputs": [],
   "source": [
    "import pandas as pd\n",
    "import numpy as np\n",
    "import matplotlib.pyplot as plt\n",
    "import seaborn as sns"
   ]
  },
  {
   "cell_type": "code",
   "execution_count": 2,
   "id": "ad66e281-2302-4014-bc6d-df59848477fc",
   "metadata": {},
   "outputs": [
    {
     "data": {
      "text/html": [
       "<div>\n",
       "<style scoped>\n",
       "    .dataframe tbody tr th:only-of-type {\n",
       "        vertical-align: middle;\n",
       "    }\n",
       "\n",
       "    .dataframe tbody tr th {\n",
       "        vertical-align: top;\n",
       "    }\n",
       "\n",
       "    .dataframe thead th {\n",
       "        text-align: right;\n",
       "    }\n",
       "</style>\n",
       "<table border=\"1\" class=\"dataframe\">\n",
       "  <thead>\n",
       "    <tr style=\"text-align: right;\">\n",
       "      <th></th>\n",
       "      <th>lat</th>\n",
       "      <th>lon</th>\n",
       "      <th>score</th>\n",
       "    </tr>\n",
       "    <tr>\n",
       "      <th>id</th>\n",
       "      <th></th>\n",
       "      <th></th>\n",
       "      <th></th>\n",
       "    </tr>\n",
       "  </thead>\n",
       "  <tbody>\n",
       "    <tr>\n",
       "      <th>0</th>\n",
       "      <td>56.228300</td>\n",
       "      <td>43.945535</td>\n",
       "      <td>0.080523</td>\n",
       "    </tr>\n",
       "    <tr>\n",
       "      <th>1</th>\n",
       "      <td>56.834244</td>\n",
       "      <td>53.141543</td>\n",
       "      <td>0.104424</td>\n",
       "    </tr>\n",
       "    <tr>\n",
       "      <th>2</th>\n",
       "      <td>45.042299</td>\n",
       "      <td>41.990170</td>\n",
       "      <td>0.067615</td>\n",
       "    </tr>\n",
       "    <tr>\n",
       "      <th>3</th>\n",
       "      <td>59.849408</td>\n",
       "      <td>30.387762</td>\n",
       "      <td>0.088038</td>\n",
       "    </tr>\n",
       "    <tr>\n",
       "      <th>4</th>\n",
       "      <td>59.839643</td>\n",
       "      <td>30.304308</td>\n",
       "      <td>0.099686</td>\n",
       "    </tr>\n",
       "  </tbody>\n",
       "</table>\n",
       "</div>"
      ],
      "text/plain": [
       "          lat        lon     score\n",
       "id                                \n",
       "0   56.228300  43.945535  0.080523\n",
       "1   56.834244  53.141543  0.104424\n",
       "2   45.042299  41.990170  0.067615\n",
       "3   59.849408  30.387762  0.088038\n",
       "4   59.839643  30.304308  0.099686"
      ]
     },
     "execution_count": 2,
     "metadata": {},
     "output_type": "execute_result"
    }
   ],
   "source": [
    "train_csv = pd.read_csv('./data/train.csv', index_col='id')\n",
    "train_csv.head()"
   ]
  },
  {
   "cell_type": "code",
   "execution_count": 3,
   "id": "0c33ff25-495b-4cb1-a0a9-375b455a25eb",
   "metadata": {},
   "outputs": [
    {
     "data": {
      "text/html": [
       "<div>\n",
       "<style scoped>\n",
       "    .dataframe tbody tr th:only-of-type {\n",
       "        vertical-align: middle;\n",
       "    }\n",
       "\n",
       "    .dataframe tbody tr th {\n",
       "        vertical-align: top;\n",
       "    }\n",
       "\n",
       "    .dataframe thead th {\n",
       "        text-align: right;\n",
       "    }\n",
       "</style>\n",
       "<table border=\"1\" class=\"dataframe\">\n",
       "  <thead>\n",
       "    <tr style=\"text-align: right;\">\n",
       "      <th></th>\n",
       "      <th>lat</th>\n",
       "      <th>lon</th>\n",
       "      <th>0</th>\n",
       "      <th>1</th>\n",
       "      <th>2</th>\n",
       "      <th>3</th>\n",
       "      <th>4</th>\n",
       "      <th>5</th>\n",
       "      <th>6</th>\n",
       "      <th>7</th>\n",
       "      <th>...</th>\n",
       "      <th>353</th>\n",
       "      <th>354</th>\n",
       "      <th>355</th>\n",
       "      <th>356</th>\n",
       "      <th>357</th>\n",
       "      <th>358</th>\n",
       "      <th>359</th>\n",
       "      <th>360</th>\n",
       "      <th>361</th>\n",
       "      <th>362</th>\n",
       "    </tr>\n",
       "  </thead>\n",
       "  <tbody>\n",
       "    <tr>\n",
       "      <th>0</th>\n",
       "      <td>59.837100</td>\n",
       "      <td>30.262701</td>\n",
       "      <td>0.411159</td>\n",
       "      <td>0.360032</td>\n",
       "      <td>0.350883</td>\n",
       "      <td>0.476389</td>\n",
       "      <td>0.373542</td>\n",
       "      <td>0.399907</td>\n",
       "      <td>0.397579</td>\n",
       "      <td>0.486442</td>\n",
       "      <td>...</td>\n",
       "      <td>0.041906</td>\n",
       "      <td>0.045916</td>\n",
       "      <td>0.085368</td>\n",
       "      <td>0.093044</td>\n",
       "      <td>0.014491</td>\n",
       "      <td>0.004091</td>\n",
       "      <td>0.043260</td>\n",
       "      <td>0.045916</td>\n",
       "      <td>0.060025</td>\n",
       "      <td>0.071592</td>\n",
       "    </tr>\n",
       "    <tr>\n",
       "      <th>1</th>\n",
       "      <td>59.935705</td>\n",
       "      <td>30.274201</td>\n",
       "      <td>0.500628</td>\n",
       "      <td>0.458489</td>\n",
       "      <td>0.522933</td>\n",
       "      <td>0.538892</td>\n",
       "      <td>0.482807</td>\n",
       "      <td>0.497257</td>\n",
       "      <td>0.541007</td>\n",
       "      <td>0.482956</td>\n",
       "      <td>...</td>\n",
       "      <td>0.041262</td>\n",
       "      <td>0.054171</td>\n",
       "      <td>0.066940</td>\n",
       "      <td>0.057510</td>\n",
       "      <td>0.007990</td>\n",
       "      <td>0.017897</td>\n",
       "      <td>0.042617</td>\n",
       "      <td>0.054171</td>\n",
       "      <td>0.047068</td>\n",
       "      <td>0.044251</td>\n",
       "    </tr>\n",
       "    <tr>\n",
       "      <th>2</th>\n",
       "      <td>59.929714</td>\n",
       "      <td>30.419863</td>\n",
       "      <td>0.450037</td>\n",
       "      <td>0.413593</td>\n",
       "      <td>0.445300</td>\n",
       "      <td>0.490658</td>\n",
       "      <td>0.403224</td>\n",
       "      <td>0.448099</td>\n",
       "      <td>0.516285</td>\n",
       "      <td>0.526028</td>\n",
       "      <td>...</td>\n",
       "      <td>0.044056</td>\n",
       "      <td>0.052290</td>\n",
       "      <td>0.126482</td>\n",
       "      <td>0.116896</td>\n",
       "      <td>0.006771</td>\n",
       "      <td>0.007329</td>\n",
       "      <td>0.045406</td>\n",
       "      <td>0.052290</td>\n",
       "      <td>0.088934</td>\n",
       "      <td>0.089945</td>\n",
       "    </tr>\n",
       "    <tr>\n",
       "      <th>3</th>\n",
       "      <td>56.111227</td>\n",
       "      <td>40.356119</td>\n",
       "      <td>0.160964</td>\n",
       "      <td>0.146153</td>\n",
       "      <td>0.301632</td>\n",
       "      <td>0.196871</td>\n",
       "      <td>0.157927</td>\n",
       "      <td>0.130723</td>\n",
       "      <td>0.246422</td>\n",
       "      <td>0.385300</td>\n",
       "      <td>...</td>\n",
       "      <td>0.043072</td>\n",
       "      <td>0.051181</td>\n",
       "      <td>0.042962</td>\n",
       "      <td>0.030555</td>\n",
       "      <td>0.010293</td>\n",
       "      <td>0.002216</td>\n",
       "      <td>0.044425</td>\n",
       "      <td>0.051181</td>\n",
       "      <td>0.030208</td>\n",
       "      <td>0.023510</td>\n",
       "    </tr>\n",
       "    <tr>\n",
       "      <th>4</th>\n",
       "      <td>56.233351</td>\n",
       "      <td>43.872728</td>\n",
       "      <td>0.102522</td>\n",
       "      <td>0.073835</td>\n",
       "      <td>0.270109</td>\n",
       "      <td>0.129343</td>\n",
       "      <td>0.106780</td>\n",
       "      <td>0.082463</td>\n",
       "      <td>0.201381</td>\n",
       "      <td>0.372377</td>\n",
       "      <td>...</td>\n",
       "      <td>0.047839</td>\n",
       "      <td>0.048137</td>\n",
       "      <td>0.135698</td>\n",
       "      <td>0.163684</td>\n",
       "      <td>0.009615</td>\n",
       "      <td>0.003579</td>\n",
       "      <td>0.049185</td>\n",
       "      <td>0.048137</td>\n",
       "      <td>0.095414</td>\n",
       "      <td>0.125946</td>\n",
       "    </tr>\n",
       "  </tbody>\n",
       "</table>\n",
       "<p>5 rows × 365 columns</p>\n",
       "</div>"
      ],
      "text/plain": [
       "         lat        lon         0         1         2         3         4  \\\n",
       "0  59.837100  30.262701  0.411159  0.360032  0.350883  0.476389  0.373542   \n",
       "1  59.935705  30.274201  0.500628  0.458489  0.522933  0.538892  0.482807   \n",
       "2  59.929714  30.419863  0.450037  0.413593  0.445300  0.490658  0.403224   \n",
       "3  56.111227  40.356119  0.160964  0.146153  0.301632  0.196871  0.157927   \n",
       "4  56.233351  43.872728  0.102522  0.073835  0.270109  0.129343  0.106780   \n",
       "\n",
       "          5         6         7  ...       353       354       355       356  \\\n",
       "0  0.399907  0.397579  0.486442  ...  0.041906  0.045916  0.085368  0.093044   \n",
       "1  0.497257  0.541007  0.482956  ...  0.041262  0.054171  0.066940  0.057510   \n",
       "2  0.448099  0.516285  0.526028  ...  0.044056  0.052290  0.126482  0.116896   \n",
       "3  0.130723  0.246422  0.385300  ...  0.043072  0.051181  0.042962  0.030555   \n",
       "4  0.082463  0.201381  0.372377  ...  0.047839  0.048137  0.135698  0.163684   \n",
       "\n",
       "        357       358       359       360       361       362  \n",
       "0  0.014491  0.004091  0.043260  0.045916  0.060025  0.071592  \n",
       "1  0.007990  0.017897  0.042617  0.054171  0.047068  0.044251  \n",
       "2  0.006771  0.007329  0.045406  0.052290  0.088934  0.089945  \n",
       "3  0.010293  0.002216  0.044425  0.051181  0.030208  0.023510  \n",
       "4  0.009615  0.003579  0.049185  0.048137  0.095414  0.125946  \n",
       "\n",
       "[5 rows x 365 columns]"
      ]
     },
     "execution_count": 3,
     "metadata": {},
     "output_type": "execute_result"
    }
   ],
   "source": [
    "features = pd.read_csv('./data/features.csv')\n",
    "features.head()"
   ]
  },
  {
   "cell_type": "markdown",
   "id": "4a4aa8ab-9b14-4972-81d7-328f7f1084f4",
   "metadata": {},
   "source": [
    "## Фильтрация от мультиколлинеарности\n",
    "\n",
    "Поскольку строить визуально матрицу корреляции не имеет смысла, лучше сделать функцию, которая отсеивает признаки с зависимостью более 0.65"
   ]
  },
  {
   "cell_type": "code",
   "execution_count": 4,
   "id": "df562c72-0dae-4336-b6b0-1e7971f03d13",
   "metadata": {},
   "outputs": [],
   "source": [
    "from sklearn.feature_selection import VarianceThreshold\n",
    "\n",
    "cutter = VarianceThreshold(threshold=0.05)\n",
    "cutter.fit(features)\n",
    "constant_cols = [x for x in features.columns if x not in np.delete(cutter.get_feature_names_out(), [0, 1])]\n",
    "\n",
    "features = features[constant_cols]"
   ]
  },
  {
   "cell_type": "code",
   "execution_count": 5,
   "id": "d5c8121d-ba84-40fb-847a-54a960770c15",
   "metadata": {},
   "outputs": [
    {
     "data": {
      "text/plain": [
       "(3701, 308)"
      ]
     },
     "execution_count": 5,
     "metadata": {},
     "output_type": "execute_result"
    }
   ],
   "source": [
    "features.shape"
   ]
  },
  {
   "cell_type": "code",
   "execution_count": 6,
   "id": "423f847d-daae-418d-9e05-62b2a67bf433",
   "metadata": {},
   "outputs": [],
   "source": [
    "def correlation_delete(dataset, threshold):\n",
    "    col_corr = set()\n",
    "    corr_matrix = dataset.corr()\n",
    "    for i in range(len(corr_matrix.columns)):\n",
    "        for j in range(i):\n",
    "            if corr_matrix.iloc[i, j] >= threshold and corr_matrix.columns[j] not in col_corr:\n",
    "                colname = corr_matrix.columns[i]\n",
    "                col_corr.add(colname)\n",
    "                if colname in dataset.columns:\n",
    "                    del dataset[colname]\n",
    "\n",
    "correlation_delete(features, 0.55)"
   ]
  },
  {
   "cell_type": "code",
   "execution_count": 7,
   "id": "254d4ad4-86b8-477a-a83a-4b9c256fc8dd",
   "metadata": {},
   "outputs": [
    {
     "data": {
      "text/plain": [
       "(3701, 40)"
      ]
     },
     "execution_count": 7,
     "metadata": {},
     "output_type": "execute_result"
    }
   ],
   "source": [
    "features.shape"
   ]
  },
  {
   "cell_type": "markdown",
   "id": "03462eb5-641d-440b-bedb-71f6b2acc6c4",
   "metadata": {},
   "source": [
    "## Объединение данных"
   ]
  },
  {
   "cell_type": "code",
   "execution_count": 8,
   "id": "95a3c480-8c91-47e3-931f-c4237d22a102",
   "metadata": {},
   "outputs": [],
   "source": [
    "def preprocessing_data(dataset):\n",
    "    step = 1.5\n",
    "    features['lat_bin'] = (features['lat'] // step) * step\n",
    "    features['lon_bin'] = (features['lon'] // step) * step\n",
    "    \n",
    "    grouped_features_df = features.groupby(['lat_bin', 'lon_bin']).mean().reset_index()\n",
    "    \n",
    "    dataset['lat_bin'] = (dataset['lat'] // step) * step\n",
    "    dataset['lon_bin'] = (dataset['lon'] // step) * step\n",
    "    \n",
    "    merged_df = pd.merge(dataset, grouped_features_df, on=['lat_bin', 'lon_bin'], how='left')\n",
    "    merged_df.drop(['lat_bin', 'lon_bin'], axis=1, inplace=True)\n",
    "\n",
    "    merged_df = merged_df.drop(['lat_y', 'lon_y'], axis=1)\n",
    "    merged_df['id'] = range(0, 3084)\n",
    "    merged_df = merged_df.set_index('id')\n",
    "\n",
    "    return merged_df"
   ]
  },
  {
   "cell_type": "code",
   "execution_count": 9,
   "id": "5aa4cdb8-d75f-4376-b31a-b073af932578",
   "metadata": {},
   "outputs": [],
   "source": [
    "prep_data = preprocessing_data(train_csv)"
   ]
  },
  {
   "cell_type": "code",
   "execution_count": 10,
   "id": "8310ef77-3e69-41e7-98c9-73896b0137cc",
   "metadata": {},
   "outputs": [
    {
     "data": {
      "text/html": [
       "<div>\n",
       "<style scoped>\n",
       "    .dataframe tbody tr th:only-of-type {\n",
       "        vertical-align: middle;\n",
       "    }\n",
       "\n",
       "    .dataframe tbody tr th {\n",
       "        vertical-align: top;\n",
       "    }\n",
       "\n",
       "    .dataframe thead th {\n",
       "        text-align: right;\n",
       "    }\n",
       "</style>\n",
       "<table border=\"1\" class=\"dataframe\">\n",
       "  <thead>\n",
       "    <tr style=\"text-align: right;\">\n",
       "      <th></th>\n",
       "      <th>lat_x</th>\n",
       "      <th>lon_x</th>\n",
       "      <th>score</th>\n",
       "      <th>0</th>\n",
       "      <th>7</th>\n",
       "      <th>8</th>\n",
       "      <th>9</th>\n",
       "      <th>11</th>\n",
       "      <th>12</th>\n",
       "      <th>13</th>\n",
       "      <th>...</th>\n",
       "      <th>65</th>\n",
       "      <th>69</th>\n",
       "      <th>106</th>\n",
       "      <th>110</th>\n",
       "      <th>111</th>\n",
       "      <th>129</th>\n",
       "      <th>135</th>\n",
       "      <th>243</th>\n",
       "      <th>258</th>\n",
       "      <th>347</th>\n",
       "    </tr>\n",
       "    <tr>\n",
       "      <th>id</th>\n",
       "      <th></th>\n",
       "      <th></th>\n",
       "      <th></th>\n",
       "      <th></th>\n",
       "      <th></th>\n",
       "      <th></th>\n",
       "      <th></th>\n",
       "      <th></th>\n",
       "      <th></th>\n",
       "      <th></th>\n",
       "      <th></th>\n",
       "      <th></th>\n",
       "      <th></th>\n",
       "      <th></th>\n",
       "      <th></th>\n",
       "      <th></th>\n",
       "      <th></th>\n",
       "      <th></th>\n",
       "      <th></th>\n",
       "      <th></th>\n",
       "      <th></th>\n",
       "    </tr>\n",
       "  </thead>\n",
       "  <tbody>\n",
       "    <tr>\n",
       "      <th>0</th>\n",
       "      <td>56.228300</td>\n",
       "      <td>43.945535</td>\n",
       "      <td>0.080523</td>\n",
       "      <td>0.128261</td>\n",
       "      <td>0.368845</td>\n",
       "      <td>0.130946</td>\n",
       "      <td>0.043149</td>\n",
       "      <td>0.247147</td>\n",
       "      <td>0.923028</td>\n",
       "      <td>0.0</td>\n",
       "      <td>...</td>\n",
       "      <td>0.603083</td>\n",
       "      <td>0.453516</td>\n",
       "      <td>0.034821</td>\n",
       "      <td>0.201467</td>\n",
       "      <td>0.215494</td>\n",
       "      <td>1.000000</td>\n",
       "      <td>0.455050</td>\n",
       "      <td>0.003551</td>\n",
       "      <td>0.093929</td>\n",
       "      <td>0.062686</td>\n",
       "    </tr>\n",
       "    <tr>\n",
       "      <th>1</th>\n",
       "      <td>56.834244</td>\n",
       "      <td>53.141543</td>\n",
       "      <td>0.104424</td>\n",
       "      <td>0.105064</td>\n",
       "      <td>0.376473</td>\n",
       "      <td>0.125363</td>\n",
       "      <td>0.034443</td>\n",
       "      <td>0.232965</td>\n",
       "      <td>0.919778</td>\n",
       "      <td>0.0</td>\n",
       "      <td>...</td>\n",
       "      <td>0.816313</td>\n",
       "      <td>0.448432</td>\n",
       "      <td>0.048244</td>\n",
       "      <td>0.242856</td>\n",
       "      <td>0.259198</td>\n",
       "      <td>1.000000</td>\n",
       "      <td>0.455807</td>\n",
       "      <td>0.013125</td>\n",
       "      <td>0.130799</td>\n",
       "      <td>0.090676</td>\n",
       "    </tr>\n",
       "    <tr>\n",
       "      <th>2</th>\n",
       "      <td>45.042299</td>\n",
       "      <td>41.990170</td>\n",
       "      <td>0.067615</td>\n",
       "      <td>0.131125</td>\n",
       "      <td>0.284006</td>\n",
       "      <td>0.146079</td>\n",
       "      <td>0.040166</td>\n",
       "      <td>0.333287</td>\n",
       "      <td>0.930790</td>\n",
       "      <td>0.0</td>\n",
       "      <td>...</td>\n",
       "      <td>0.581921</td>\n",
       "      <td>0.436361</td>\n",
       "      <td>0.030890</td>\n",
       "      <td>0.241221</td>\n",
       "      <td>0.227782</td>\n",
       "      <td>0.992599</td>\n",
       "      <td>0.462130</td>\n",
       "      <td>0.024821</td>\n",
       "      <td>0.321488</td>\n",
       "      <td>0.065327</td>\n",
       "    </tr>\n",
       "    <tr>\n",
       "      <th>3</th>\n",
       "      <td>59.849408</td>\n",
       "      <td>30.387762</td>\n",
       "      <td>0.088038</td>\n",
       "      <td>0.432205</td>\n",
       "      <td>0.475667</td>\n",
       "      <td>0.150948</td>\n",
       "      <td>0.040134</td>\n",
       "      <td>0.244205</td>\n",
       "      <td>0.920466</td>\n",
       "      <td>0.0</td>\n",
       "      <td>...</td>\n",
       "      <td>0.670058</td>\n",
       "      <td>0.558392</td>\n",
       "      <td>0.041630</td>\n",
       "      <td>0.172063</td>\n",
       "      <td>0.191493</td>\n",
       "      <td>1.000000</td>\n",
       "      <td>0.454545</td>\n",
       "      <td>0.000132</td>\n",
       "      <td>0.117915</td>\n",
       "      <td>0.052686</td>\n",
       "    </tr>\n",
       "    <tr>\n",
       "      <th>4</th>\n",
       "      <td>59.839643</td>\n",
       "      <td>30.304308</td>\n",
       "      <td>0.099686</td>\n",
       "      <td>0.432205</td>\n",
       "      <td>0.475667</td>\n",
       "      <td>0.150948</td>\n",
       "      <td>0.040134</td>\n",
       "      <td>0.244205</td>\n",
       "      <td>0.920466</td>\n",
       "      <td>0.0</td>\n",
       "      <td>...</td>\n",
       "      <td>0.670058</td>\n",
       "      <td>0.558392</td>\n",
       "      <td>0.041630</td>\n",
       "      <td>0.172063</td>\n",
       "      <td>0.191493</td>\n",
       "      <td>1.000000</td>\n",
       "      <td>0.454545</td>\n",
       "      <td>0.000132</td>\n",
       "      <td>0.117915</td>\n",
       "      <td>0.052686</td>\n",
       "    </tr>\n",
       "  </tbody>\n",
       "</table>\n",
       "<p>5 rows × 41 columns</p>\n",
       "</div>"
      ],
      "text/plain": [
       "        lat_x      lon_x     score         0         7         8         9  \\\n",
       "id                                                                           \n",
       "0   56.228300  43.945535  0.080523  0.128261  0.368845  0.130946  0.043149   \n",
       "1   56.834244  53.141543  0.104424  0.105064  0.376473  0.125363  0.034443   \n",
       "2   45.042299  41.990170  0.067615  0.131125  0.284006  0.146079  0.040166   \n",
       "3   59.849408  30.387762  0.088038  0.432205  0.475667  0.150948  0.040134   \n",
       "4   59.839643  30.304308  0.099686  0.432205  0.475667  0.150948  0.040134   \n",
       "\n",
       "          11        12   13  ...        65        69       106       110  \\\n",
       "id                           ...                                           \n",
       "0   0.247147  0.923028  0.0  ...  0.603083  0.453516  0.034821  0.201467   \n",
       "1   0.232965  0.919778  0.0  ...  0.816313  0.448432  0.048244  0.242856   \n",
       "2   0.333287  0.930790  0.0  ...  0.581921  0.436361  0.030890  0.241221   \n",
       "3   0.244205  0.920466  0.0  ...  0.670058  0.558392  0.041630  0.172063   \n",
       "4   0.244205  0.920466  0.0  ...  0.670058  0.558392  0.041630  0.172063   \n",
       "\n",
       "         111       129       135       243       258       347  \n",
       "id                                                              \n",
       "0   0.215494  1.000000  0.455050  0.003551  0.093929  0.062686  \n",
       "1   0.259198  1.000000  0.455807  0.013125  0.130799  0.090676  \n",
       "2   0.227782  0.992599  0.462130  0.024821  0.321488  0.065327  \n",
       "3   0.191493  1.000000  0.454545  0.000132  0.117915  0.052686  \n",
       "4   0.191493  1.000000  0.454545  0.000132  0.117915  0.052686  \n",
       "\n",
       "[5 rows x 41 columns]"
      ]
     },
     "execution_count": 10,
     "metadata": {},
     "output_type": "execute_result"
    }
   ],
   "source": [
    "prep_data.head()"
   ]
  },
  {
   "cell_type": "markdown",
   "id": "ef3d16cd-1a3e-4a46-a9d1-7c169d011265",
   "metadata": {},
   "source": [
    "## Моделирование"
   ]
  },
  {
   "cell_type": "code",
   "execution_count": 11,
   "id": "8d80dd53-3600-46c9-9033-568e947cfcd9",
   "metadata": {},
   "outputs": [],
   "source": [
    "from sklearn.model_selection import train_test_split\n",
    "from sklearn.linear_model import LinearRegression, Lasso, Ridge\n",
    "from sklearn.pipeline import Pipeline\n",
    "from sklearn.preprocessing import StandardScaler\n",
    "from catboost import CatBoostRegressor\n",
    "from sklearn.tree import DecisionTreeRegressor\n",
    "from sklearn.neighbors import KNeighborsRegressor\n",
    "from sklearn.ensemble import RandomForestRegressor\n",
    "\n",
    "X = prep_data.drop('score', axis=1)\n",
    "y = prep_data['score']\n",
    "\n",
    "X_train, X_test, y_train, y_test = train_test_split(X, y,\n",
    "                                                    test_size=0.2,\n",
    "                                                    random_state=0)"
   ]
  },
  {
   "cell_type": "code",
   "execution_count": 12,
   "id": "ba402fe3-ea8c-4828-9579-c8fe4bfa41bb",
   "metadata": {},
   "outputs": [],
   "source": [
    "def train_pipe_test(models, X_tr, X_te,\n",
    "                    y_tr, y_te):\n",
    "    set_models = {}\n",
    "    for model in models:\n",
    "        temp_pipe = Pipeline([('scaler', StandardScaler()),\n",
    "                              (f\"{type(model).__name__}\", model)])\n",
    "        temp_pipe.fit(X_tr, y_tr)\n",
    "\n",
    "        set_models[type(model).__name__] = np.mean(np.abs(temp_pipe.predict(X_te) - y_te))\n",
    "\n",
    "    return set_models\n",
    "\n",
    "def train_pipe_train(models, X_tr, X_te,\n",
    "                     y_tr, y_te):\n",
    "    set_models = {}\n",
    "    for model in models:\n",
    "        temp_pipe = Pipeline([('scaler', StandardScaler()),\n",
    "                              (f\"{type(model).__name__}\", model)])\n",
    "        temp_pipe.fit(X_tr, y_tr)\n",
    "\n",
    "        set_models[type(model).__name__] = np.mean(np.abs(temp_pipe.predict(X_tr) - y_tr))\n",
    "\n",
    "    return set_models"
   ]
  },
  {
   "cell_type": "code",
   "execution_count": 13,
   "id": "76e98c69-1a0a-4373-a60b-bbfa921006bf",
   "metadata": {},
   "outputs": [],
   "source": [
    "%%capture\n",
    "models_list = [LinearRegression(), Lasso(), CatBoostRegressor(),\n",
    "               KNeighborsRegressor(), DecisionTreeRegressor(), Ridge(), RandomForestRegressor()]\n",
    "\n",
    "results_train = train_pipe_train(models_list, X_train, X_test, y_train, y_test)\n",
    "results_test = train_pipe_test(models_list, X_train, X_test, y_train, y_test)"
   ]
  },
  {
   "cell_type": "code",
   "execution_count": 14,
   "id": "3d8c2807-f5f6-45cf-85ef-9a56228c9308",
   "metadata": {},
   "outputs": [
    {
     "name": "stdout",
     "output_type": "stream",
     "text": [
      "Train MAE\n"
     ]
    },
    {
     "data": {
      "text/plain": [
       "{'LinearRegression': 0.07020785411966976,\n",
       " 'Lasso': 0.07541003016692799,\n",
       " 'CatBoostRegressor': 0.040117703794480666,\n",
       " 'KNeighborsRegressor': 0.03706784634489273,\n",
       " 'DecisionTreeRegressor': 0.0,\n",
       " 'Ridge': 0.0701455047930173,\n",
       " 'RandomForestRegressor': 0.016637212050885634}"
      ]
     },
     "execution_count": 14,
     "metadata": {},
     "output_type": "execute_result"
    }
   ],
   "source": [
    "print('Train MAE')\n",
    "results_train"
   ]
  },
  {
   "cell_type": "code",
   "execution_count": 15,
   "id": "c46b79fc-ed2c-4520-bdda-29dda09fe582",
   "metadata": {},
   "outputs": [
    {
     "name": "stdout",
     "output_type": "stream",
     "text": [
      "Test MAE\n"
     ]
    },
    {
     "data": {
      "text/plain": [
       "{'LinearRegression': 0.07458650833890315,\n",
       " 'Lasso': 0.07612533768733881,\n",
       " 'CatBoostRegressor': 0.0522475608776816,\n",
       " 'KNeighborsRegressor': 0.04905882065851987,\n",
       " 'DecisionTreeRegressor': 0.04416518140610012,\n",
       " 'Ridge': 0.07455593758404044,\n",
       " 'RandomForestRegressor': 0.04594543051874154}"
      ]
     },
     "execution_count": 15,
     "metadata": {},
     "output_type": "execute_result"
    }
   ],
   "source": [
    "print('Test MAE')\n",
    "results_test"
   ]
  },
  {
   "cell_type": "code",
   "execution_count": 16,
   "id": "0b823883-5143-45cd-81ba-649030c17e1f",
   "metadata": {},
   "outputs": [
    {
     "data": {
      "image/png": "[encoded data removed]",
      "text/plain": [
       "<Figure size 1000x600 with 1 Axes>"
      ]
     },
     "metadata": {},
     "output_type": "display_data"
    }
   ],
   "source": [
    "def plot_dicts(dict1, dict2):\n",
    "    plt.figure(figsize=(10, 6))\n",
    "\n",
    "    plt.bar(dict1.keys(), dict1.values(), alpha=0.9, label='Тренировочный MAE', color='red')\n",
    "\n",
    "    plt.bar(dict2.keys(), dict2.values(), alpha=0.1, label='Тестовый MAE', color='green')\n",
    "\n",
    "    plt.xlabel('Модели')\n",
    "    plt.ylabel('Значение MAE')\n",
    "    plt.title('Сравнение значения MAE моделей на тренировочных и тестовых данных')\n",
    "    plt.xticks(rotation=45)\n",
    "    plt.legend()\n",
    "    plt.show()\n",
    "\n",
    "plot_dicts(results_train, results_test)"
   ]
  },
  {
   "cell_type": "markdown",
   "id": "0a0903e1-9324-4c6f-8d8e-f10834b23202",
   "metadata": {},
   "source": [
    "## Гиперпараметры"
   ]
  },
  {
   "cell_type": "markdown",
   "id": "e7a13a7c-bc70-4a0c-9631-73a321be174b",
   "metadata": {},
   "source": [
    "### RandomForestRegressor"
   ]
  },
  {
   "cell_type": "code",
   "execution_count": 20,
   "id": "fe832b49-7d1b-4df0-bcfd-9c91d39bc2eb",
   "metadata": {},
   "outputs": [
    {
     "name": "stdout",
     "output_type": "stream",
     "text": [
      "CPU times: total: 25min 56s\n",
      "Wall time: 26min 16s\n"
     ]
    }
   ],
   "source": [
    "%%time\n",
    "%%capture\n",
    "from sklearn.experimental import enable_halving_search_cv\n",
    "from sklearn.model_selection import HalvingGridSearchCV\n",
    "\n",
    "rf_params = {\n",
    "    'RandomForestRegressor__bootstrap': [True, False],\n",
    "    'RandomForestRegressor__max_depth': [10, 30, 50, 90, None],\n",
    "    'RandomForestRegressor__max_features': ['auto', 'sqrt'],\n",
    "    'RandomForestRegressor__min_samples_leaf': [1, 2, 4],\n",
    "    'RandomForestRegressor__min_samples_split': [2, 5, 10],\n",
    "    'RandomForestRegressor__n_estimators': [200, 400, 600, 1000]\n",
    "}\n",
    "\n",
    "rf_pipe = Pipeline([('scaler', StandardScaler()),\n",
    "                    ('RandomForestRegressor', RandomForestRegressor(n_jobs=-1))])\n",
    "\n",
    "rf_cv = HalvingGridSearchCV(estimator=rf_pipe, cv=3, param_grid=rf_params, scoring='neg_mean_absolute_error',\n",
    "                            max_resources=10, random_state=0)\n",
    "\n",
    "rf_cv.fit(X_train, y_train)"
   ]
  },
  {
   "cell_type": "code",
   "execution_count": 22,
   "id": "630f49c1-9e54-436a-add3-35e679fc7a24",
   "metadata": {},
   "outputs": [
    {
     "data": {
      "text/plain": [
       "{'RandomForestRegressor__bootstrap': True,\n",
       " 'RandomForestRegressor__max_depth': 90,\n",
       " 'RandomForestRegressor__max_features': 'sqrt',\n",
       " 'RandomForestRegressor__min_samples_leaf': 1,\n",
       " 'RandomForestRegressor__min_samples_split': 2,\n",
       " 'RandomForestRegressor__n_estimators': 200}"
      ]
     },
     "execution_count": 22,
     "metadata": {},
     "output_type": "execute_result"
    }
   ],
   "source": [
    "rf_cv.best_params_"
   ]
  },
  {
   "cell_type": "code",
   "execution_count": 27,
   "id": "a372b203-ec7b-4d0b-b712-50f1328a8742",
   "metadata": {},
   "outputs": [
    {
     "data": {
      "text/plain": [
       "0.04637926629884209"
      ]
     },
     "execution_count": 27,
     "metadata": {},
     "output_type": "execute_result"
    }
   ],
   "source": [
    "np.mean(abs(y_test - rf_cv.predict(X_test)))"
   ]
  },
  {
   "cell_type": "markdown",
   "id": "1618d8f2-7431-410b-a169-cde73561cb93",
   "metadata": {},
   "source": [
    "### DecisionTreeRegressor"
   ]
  },
  {
   "cell_type": "code",
   "execution_count": 31,
   "id": "502656b2-bde5-4f79-b107-15c22c806b22",
   "metadata": {},
   "outputs": [
    {
     "name": "stderr",
     "output_type": "stream",
     "text": [
      "C:\\Users\\Vlad\\miniconda3\\envs\\ml-projects\\lib\\site-packages\\sklearn\\model_selection\\_validation.py:378: FitFailedWarning: \n",
      "720 fits failed out of a total of 2160.\n",
      "The score on these train-test partitions for these parameters will be set to nan.\n",
      "If these failures are not expected, you can try to debug them by setting error_score='raise'.\n",
      "\n",
      "Below are more details about the failures:\n",
      "--------------------------------------------------------------------------------\n",
      "720 fits failed with the following error:\n",
      "Traceback (most recent call last):\n",
      "  File \"C:\\Users\\Vlad\\miniconda3\\envs\\ml-projects\\lib\\site-packages\\sklearn\\model_selection\\_validation.py\", line 686, in _fit_and_score\n",
      "    estimator.fit(X_train, y_train, **fit_params)\n",
      "  File \"C:\\Users\\Vlad\\miniconda3\\envs\\ml-projects\\lib\\site-packages\\sklearn\\pipeline.py\", line 405, in fit\n",
      "    self._final_estimator.fit(Xt, y, **fit_params_last_step)\n",
      "  File \"C:\\Users\\Vlad\\miniconda3\\envs\\ml-projects\\lib\\site-packages\\sklearn\\tree\\_classes.py\", line 1247, in fit\n",
      "    super().fit(\n",
      "  File \"C:\\Users\\Vlad\\miniconda3\\envs\\ml-projects\\lib\\site-packages\\sklearn\\tree\\_classes.py\", line 177, in fit\n",
      "    self._validate_params()\n",
      "  File \"C:\\Users\\Vlad\\miniconda3\\envs\\ml-projects\\lib\\site-packages\\sklearn\\base.py\", line 600, in _validate_params\n",
      "    validate_parameter_constraints(\n",
      "  File \"C:\\Users\\Vlad\\miniconda3\\envs\\ml-projects\\lib\\site-packages\\sklearn\\utils\\_param_validation.py\", line 97, in validate_parameter_constraints\n",
      "    raise InvalidParameterError(\n",
      "sklearn.utils._param_validation.InvalidParameterError: The 'min_weight_fraction_leaf' parameter of DecisionTreeRegressor must be a float in the range [0.0, 0.5]. Got 0.8 instead.\n",
      "\n",
      "  warnings.warn(some_fits_failed_message, FitFailedWarning)\n",
      "C:\\Users\\Vlad\\miniconda3\\envs\\ml-projects\\lib\\site-packages\\sklearn\\model_selection\\_search.py:952: UserWarning: One or more of the test scores are non-finite: [-0.07400563 -0.07632323         nan -0.1770124  -0.05032684         nan\n",
      " -0.05062554 -0.05062554         nan -0.04091329 -0.07668182         nan\n",
      " -0.13320424 -0.04771508         nan -0.05062554 -0.05062554         nan\n",
      " -0.10487354 -0.07791718         nan -0.07632323 -0.05060468         nan\n",
      " -0.05062554 -0.05062554         nan -0.17932704 -0.07632323         nan\n",
      " -0.07260543 -0.07574552         nan -0.05062554 -0.05062554         nan\n",
      " -0.09671705 -0.05060468         nan -0.07414171 -0.04922925         nan\n",
      " -0.05062554 -0.05062554         nan -0.10503481 -0.10503481         nan\n",
      " -0.04799145 -0.04926429         nan -0.05062554 -0.05062554         nan\n",
      " -0.20662298 -0.07632323         nan -0.19221626 -0.07805725         nan\n",
      " -0.05062554 -0.05062554         nan -0.04377363 -0.04787635         nan\n",
      " -0.13219458 -0.07632323         nan -0.05062554 -0.05062554         nan\n",
      " -0.07668182 -0.07632323         nan -0.07632323 -0.05002549         nan\n",
      " -0.05062554 -0.05062554         nan -0.16578405 -0.0768431          nan\n",
      " -0.11857195 -0.0797327          nan -0.05062554 -0.05062554         nan\n",
      " -0.1024904  -0.04980697         nan -0.17072195 -0.07574552         nan\n",
      " -0.05062554 -0.05062554         nan -0.07654175 -0.07632323         nan\n",
      " -0.10487354 -0.07670303         nan -0.05062554 -0.05062554         nan\n",
      " -0.17930338 -0.07632323         nan -0.26673433 -0.07835727         nan\n",
      " -0.05062554 -0.05062554         nan -0.08510526 -0.04771508         nan\n",
      " -0.12236093 -0.07632323         nan -0.05062554 -0.05062554         nan\n",
      " -0.10487354 -0.07684178         nan -0.08096771 -0.07835727         nan\n",
      " -0.05062554 -0.05062554         nan -0.13536747 -0.07632323         nan\n",
      " -0.22433583 -0.07654175         nan -0.05062554 -0.05062554         nan\n",
      " -0.128011   -0.07668182         nan -0.14938526 -0.05002549         nan\n",
      " -0.05062554 -0.05062554         nan -0.07823806 -0.07574552         nan\n",
      " -0.10487354 -0.10624896         nan -0.05062554 -0.05062554         nan\n",
      " -0.11742802 -0.10503481         nan -0.07260543 -0.10487354         nan\n",
      " -0.05062554 -0.05062554         nan -0.10578117 -0.07548888         nan\n",
      " -0.10473796 -0.07548888         nan -0.05062554 -0.05062554         nan\n",
      " -0.10487354 -0.07632323         nan -0.07835727 -0.10503481         nan\n",
      " -0.05062554 -0.05062554         nan -0.22360629 -0.04719521         nan\n",
      " -0.07314286 -0.04922925         nan -0.05062554 -0.05062554         nan\n",
      " -0.11973391 -0.10487354         nan -0.06058661 -0.05047844         nan\n",
      " -0.05062554 -0.05062554         nan -0.04771508 -0.07805725         nan\n",
      " -0.05321644 -0.07632323         nan -0.05062554 -0.05062554         nan\n",
      " -0.15991542 -0.07632323         nan -0.1818302  -0.07668182         nan\n",
      " -0.05062554 -0.05062554         nan -0.09260421 -0.07632323         nan\n",
      " -0.11086261 -0.10503481         nan -0.05062554 -0.05062554         nan\n",
      " -0.10624896 -0.07769866         nan -0.07561928 -0.04801398         nan\n",
      " -0.05062554 -0.05062554         nan -0.18898753 -0.10624896         nan\n",
      " -0.10459995 -0.10487354         nan -0.05062554 -0.05062554         nan\n",
      " -0.08034099 -0.0478527          nan -0.10579575 -0.07755991         nan\n",
      " -0.05062554 -0.05062554         nan -0.10382066 -0.05018677         nan\n",
      " -0.10503481 -0.10487354         nan -0.05062554 -0.05062554         nan\n",
      " -0.20387212 -0.05018677         nan -0.13410155 -0.04936688         nan\n",
      " -0.05062554 -0.05062554         nan -0.08353223 -0.10624896         nan\n",
      " -0.04554537 -0.04835004         nan -0.05062554 -0.05062554         nan\n",
      " -0.04719521 -0.04851131         nan -0.04908771 -0.0753276          nan\n",
      " -0.05062554 -0.05062554         nan -0.16003576 -0.05018677         nan\n",
      " -0.22510373 -0.05182077         nan -0.05062554 -0.05062554         nan\n",
      " -0.09250611 -0.0797327          nan -0.07934265 -0.05032684         nan\n",
      " -0.05062554 -0.05062554         nan -0.04815273 -0.07835727         nan\n",
      " -0.0769947  -0.04693023         nan -0.05062554 -0.05062554         nan\n",
      " -0.22328374 -0.04799145         nan -0.15985278 -0.05016556         nan\n",
      " -0.05062554 -0.05062554         nan -0.0507413  -0.04706897         nan\n",
      " -0.08289724 -0.10487354         nan -0.05062554 -0.05062554         nan\n",
      " -0.05018677 -0.04706897         nan -0.07632323 -0.07670303         nan\n",
      " -0.05062554 -0.05062554         nan -0.18262231 -0.07835727         nan\n",
      " -0.15974814 -0.04922813         nan -0.05062554 -0.05062554         nan\n",
      " -0.08808837 -0.10487354         nan -0.12493348 -0.10365938         nan\n",
      " -0.05062554 -0.05062554         nan -0.07835727 -0.0797327          nan\n",
      " -0.07632323 -0.05002549         nan -0.05062554 -0.05062554         nan\n",
      " -0.1828998  -0.04721774         nan -0.29335383 -0.10503481         nan\n",
      " -0.05062554 -0.05062554         nan -0.0958585  -0.04735649         nan\n",
      " -0.21596499 -0.10487354         nan -0.05062554 -0.05062554         nan\n",
      " -0.07835727 -0.07574552         nan -0.04706897 -0.07648451         nan\n",
      " -0.05062554 -0.05062554         nan -0.20342923 -0.07632323         nan\n",
      " -0.17862175 -0.07835727         nan -0.05062554 -0.05062554         nan\n",
      " -0.04209863 -0.10487354         nan -0.17583526 -0.0478527          nan\n",
      " -0.05062554 -0.05062554         nan -0.07769866 -0.07835727         nan\n",
      " -0.07835727 -0.10487354         nan -0.05062554 -0.05062554         nan]\n",
      "  warnings.warn(\n",
      "C:\\Users\\Vlad\\miniconda3\\envs\\ml-projects\\lib\\site-packages\\sklearn\\model_selection\\_search.py:952: UserWarning: One or more of the train scores are non-finite: [ 0.         -0.07608449         nan -0.00972981 -0.07766871         nan\n",
      " -0.07829747 -0.07829747         nan -0.061748   -0.07655199         nan\n",
      " -0.06362887 -0.07678264         nan -0.07829747 -0.07829747         nan\n",
      " -0.07655199 -0.07706163         nan -0.07655199 -0.07699159         nan\n",
      " -0.07829747 -0.07829747         nan  0.         -0.0766222          nan\n",
      " -0.00898712 -0.076702           nan -0.07829747 -0.07829747         nan\n",
      " -0.04874857 -0.07799745         nan -0.0623042  -0.07730907         nan\n",
      " -0.07829747 -0.07829747         nan -0.07638452 -0.07623451         nan\n",
      " -0.07744932 -0.07799745         nan -0.07829747 -0.07829747         nan\n",
      " -0.00037002 -0.07655199         nan -0.00966521 -0.07623451         nan\n",
      " -0.07829747 -0.07829747         nan -0.06130572 -0.07754039         nan\n",
      " -0.05612519 -0.0772397          nan -0.07829747 -0.07829747         nan\n",
      " -0.07655199 -0.07593448         nan -0.07640197 -0.07730907         nan\n",
      " -0.07829747 -0.07829747         nan -0.00030875 -0.07638452         nan\n",
      " -0.0196876  -0.07677221         nan -0.07829747 -0.07829747         nan\n",
      " -0.05975314 -0.0772291          nan -0.05292961 -0.07737911         nan\n",
      " -0.07829747 -0.07829747         nan -0.07737911 -0.07655199         nan\n",
      " -0.076702   -0.07638452         nan -0.07829747 -0.07829747         nan\n",
      "  0.         -0.07655199         nan -0.00304776 -0.07737911         nan\n",
      " -0.07829747 -0.07829747         nan -0.06131518 -0.07806682         nan\n",
      " -0.0638501  -0.07640197         nan -0.07829747 -0.07829747         nan\n",
      " -0.076702   -0.07745975         nan -0.0772397  -0.07715906         nan\n",
      " -0.07829747 -0.07829747         nan  0.         -0.0772397          nan\n",
      " -0.00275652 -0.07737911         nan -0.07829747 -0.07829747         nan\n",
      " -0.05468612 -0.07655199         nan -0.04928587 -0.07798619         nan\n",
      " -0.07829747 -0.07829747         nan -0.07814746 -0.07737911         nan\n",
      " -0.07655199 -0.07623451         nan -0.07829747 -0.07829747         nan\n",
      "  0.         -0.07638452         nan -0.00898712 -0.07655199         nan\n",
      " -0.07829747 -0.07829747         nan -0.06110457 -0.07806682         nan\n",
      " -0.047494   -0.07738971         nan -0.07829747 -0.07829747         nan\n",
      " -0.07655199 -0.0772397          nan -0.07737911 -0.07623451         nan\n",
      " -0.07829747 -0.07829747         nan  0.         -0.07608449         nan\n",
      " -0.02767705 -0.07677221         nan -0.07829747 -0.07829747         nan\n",
      " -0.05626893 -0.076702           nan -0.06695715 -0.07759933         nan\n",
      " -0.07829747 -0.07829747         nan -0.07738971 -0.07684158         nan\n",
      " -0.07766871 -0.07655199         nan -0.07829747 -0.07829747         nan\n",
      "  0.         -0.07655199         nan -0.01423487 -0.07623451         nan\n",
      " -0.07829747 -0.07829747         nan -0.06025114 -0.07640197         nan\n",
      " -0.05052535 -0.07638452         nan -0.07829747 -0.07829747         nan\n",
      " -0.07623451 -0.07623451         nan -0.07684224 -0.07766871         nan\n",
      " -0.07829747 -0.07829747         nan  0.         -0.07638452         nan\n",
      " -0.01314569 -0.076702           nan -0.07829747 -0.07829747         nan\n",
      " -0.05962449 -0.07730907         nan -0.06287221 -0.07684158         nan\n",
      " -0.07829747 -0.07829747         nan -0.07684158 -0.07799745         nan\n",
      " -0.07663262 -0.076702           nan -0.07829747 -0.07829747         nan\n",
      "  0.         -0.07766871         nan -0.0092812  -0.07691162         nan\n",
      " -0.07829747 -0.07829747         nan -0.05352771 -0.07638452         nan\n",
      " -0.05505972 -0.07730907         nan -0.07829747 -0.07829747         nan\n",
      " -0.07655199 -0.07706163         nan -0.076702   -0.07798619         nan\n",
      " -0.07829747 -0.07829747         nan  0.         -0.07692222         nan\n",
      " -0.00299069 -0.07745909         nan -0.07829747 -0.07829747         nan\n",
      " -0.04853018 -0.07706163         nan -0.05606203 -0.07745975         nan\n",
      " -0.07829747 -0.07829747         nan -0.07663262 -0.07691162         nan\n",
      " -0.07739037 -0.07791681         nan -0.07829747 -0.07829747         nan\n",
      "  0.         -0.07655199         nan -0.0027132  -0.07737911         nan\n",
      " -0.07829747 -0.07829747         nan -0.05549702 -0.07715972         nan\n",
      " -0.05074474 -0.076702           nan -0.07829747 -0.07829747         nan\n",
      " -0.07766871 -0.07669223         nan -0.0766222  -0.07706163         nan\n",
      " -0.07829747 -0.07829747         nan  0.         -0.07730907         nan\n",
      " -0.02379856 -0.07699159         nan -0.07829747 -0.07829747         nan\n",
      " -0.06481078 -0.07655199         nan -0.06628031 -0.07715906         nan\n",
      " -0.07829747 -0.07829747         nan -0.07708969 -0.07677221         nan\n",
      " -0.07655199 -0.07791681         nan -0.07829747 -0.07829747         nan\n",
      "  0.         -0.07766871         nan -0.00275368 -0.07638452         nan\n",
      " -0.07829747 -0.07829747         nan -0.06530304 -0.07692222         nan\n",
      " -0.0477129  -0.07608449         nan -0.07829747 -0.07829747         nan\n",
      " -0.07691162 -0.07737911         nan -0.07715972 -0.07623451         nan\n",
      " -0.07829747 -0.07829747         nan  0.         -0.07655199         nan\n",
      " -0.0027132  -0.07708969         nan -0.07829747 -0.07829747         nan\n",
      " -0.05586844 -0.07623451         nan -0.05603322 -0.07798619         nan\n",
      " -0.07829747 -0.07829747         nan -0.07732034 -0.0772397          nan\n",
      " -0.0766222  -0.07655199         nan -0.07829747 -0.07829747         nan]\n",
      "  warnings.warn(\n"
     ]
    },
    {
     "data": {
      "text/html": [
       "<style>#sk-container-id-3 {color: black;background-color: white;}#sk-container-id-3 pre{padding: 0;}#sk-container-id-3 div.sk-toggleable {background-color: white;}#sk-container-id-3 label.sk-toggleable__label {cursor: pointer;display: block;width: 100%;margin-bottom: 0;padding: 0.3em;box-sizing: border-box;text-align: center;}#sk-container-id-3 label.sk-toggleable__label-arrow:before {content: \"▸\";float: left;margin-right: 0.25em;color: #696969;}#sk-container-id-3 label.sk-toggleable__label-arrow:hover:before {color: black;}#sk-container-id-3 div.sk-estimator:hover label.sk-toggleable__label-arrow:before {color: black;}#sk-container-id-3 div.sk-toggleable__content {max-height: 0;max-width: 0;overflow: hidden;text-align: left;background-color: #f0f8ff;}#sk-container-id-3 div.sk-toggleable__content pre {margin: 0.2em;color: black;border-radius: 0.25em;background-color: #f0f8ff;}#sk-container-id-3 input.sk-toggleable__control:checked~div.sk-toggleable__content {max-height: 200px;max-width: 100%;overflow: auto;}#sk-container-id-3 input.sk-toggleable__control:checked~label.sk-toggleable__label-arrow:before {content: \"▾\";}#sk-container-id-3 div.sk-estimator input.sk-toggleable__control:checked~label.sk-toggleable__label {background-color: #d4ebff;}#sk-container-id-3 div.sk-label input.sk-toggleable__control:checked~label.sk-toggleable__label {background-color: #d4ebff;}#sk-container-id-3 input.sk-hidden--visually {border: 0;clip: rect(1px 1px 1px 1px);clip: rect(1px, 1px, 1px, 1px);height: 1px;margin: -1px;overflow: hidden;padding: 0;position: absolute;width: 1px;}#sk-container-id-3 div.sk-estimator {font-family: monospace;background-color: #f0f8ff;border: 1px dotted black;border-radius: 0.25em;box-sizing: border-box;margin-bottom: 0.5em;}#sk-container-id-3 div.sk-estimator:hover {background-color: #d4ebff;}#sk-container-id-3 div.sk-parallel-item::after {content: \"\";width: 100%;border-bottom: 1px solid gray;flex-grow: 1;}#sk-container-id-3 div.sk-label:hover label.sk-toggleable__label {background-color: #d4ebff;}#sk-container-id-3 div.sk-serial::before {content: \"\";position: absolute;border-left: 1px solid gray;box-sizing: border-box;top: 0;bottom: 0;left: 50%;z-index: 0;}#sk-container-id-3 div.sk-serial {display: flex;flex-direction: column;align-items: center;background-color: white;padding-right: 0.2em;padding-left: 0.2em;position: relative;}#sk-container-id-3 div.sk-item {position: relative;z-index: 1;}#sk-container-id-3 div.sk-parallel {display: flex;align-items: stretch;justify-content: center;background-color: white;position: relative;}#sk-container-id-3 div.sk-item::before, #sk-container-id-3 div.sk-parallel-item::before {content: \"\";position: absolute;border-left: 1px solid gray;box-sizing: border-box;top: 0;bottom: 0;left: 50%;z-index: -1;}#sk-container-id-3 div.sk-parallel-item {display: flex;flex-direction: column;z-index: 1;position: relative;background-color: white;}#sk-container-id-3 div.sk-parallel-item:first-child::after {align-self: flex-end;width: 50%;}#sk-container-id-3 div.sk-parallel-item:last-child::after {align-self: flex-start;width: 50%;}#sk-container-id-3 div.sk-parallel-item:only-child::after {width: 0;}#sk-container-id-3 div.sk-dashed-wrapped {border: 1px dashed gray;margin: 0 0.4em 0.5em 0.4em;box-sizing: border-box;padding-bottom: 0.4em;background-color: white;}#sk-container-id-3 div.sk-label label {font-family: monospace;font-weight: bold;display: inline-block;line-height: 1.2em;}#sk-container-id-3 div.sk-label-container {text-align: center;}#sk-container-id-3 div.sk-container {/* jupyter's `normalize.less` sets `[hidden] { display: none; }` but bootstrap.min.css set `[hidden] { display: none !important; }` so we also need the `!important` here to be able to override the default hidden behavior on the sphinx rendered scikit-learn.org. See: https://github.com/scikit-learn/scikit-learn/issues/21755 */display: inline-block !important;position: relative;}#sk-container-id-3 div.sk-text-repr-fallback {display: none;}</style><div id=\"sk-container-id-3\" class=\"sk-top-container\"><div class=\"sk-text-repr-fallback\"><pre>HalvingGridSearchCV(estimator=Pipeline(steps=[(&#x27;scaler&#x27;, StandardScaler()),\n",
       "                                              (&#x27;DecisionTreeRegressor&#x27;,\n",
       "                                               DecisionTreeRegressor())]),\n",
       "                    max_resources=10,\n",
       "                    param_grid={&#x27;DecisionTreeRegressor__criterion&#x27;: [&#x27;absolute_error&#x27;],\n",
       "                                &#x27;DecisionTreeRegressor__max_depth&#x27;: [None, 5,\n",
       "                                                                     10, 15, 20,\n",
       "                                                                     50, 100,\n",
       "                                                                     500],\n",
       "                                &#x27;DecisionTreeRegressor__max_features&#x27;: [&#x27;sqrt&#x27;,\n",
       "                                                                        &#x27;log2&#x27;],\n",
       "                                &#x27;DecisionTreeRegressor__min_samples_leaf&#x27;: [1,\n",
       "                                                                            2,\n",
       "                                                                            4],\n",
       "                                &#x27;DecisionTreeRegressor__min_samples_split&#x27;: [2,\n",
       "                                                                             5,\n",
       "                                                                             10],\n",
       "                                &#x27;DecisionTreeRegressor__min_weight_fraction_leaf&#x27;: [0.0,\n",
       "                                                                                    0.5,\n",
       "                                                                                    0.8]},\n",
       "                    random_state=0, scoring=&#x27;neg_mean_absolute_error&#x27;)</pre><b>In a Jupyter environment, please rerun this cell to show the HTML representation or trust the notebook. <br />On GitHub, the HTML representation is unable to render, please try loading this page with nbviewer.org.</b></div><div class=\"sk-container\" hidden><div class=\"sk-item sk-dashed-wrapped\"><div class=\"sk-label-container\"><div class=\"sk-label sk-toggleable\"><input class=\"sk-toggleable__control sk-hidden--visually\" id=\"sk-estimator-id-9\" type=\"checkbox\" ><label for=\"sk-estimator-id-9\" class=\"sk-toggleable__label sk-toggleable__label-arrow\">HalvingGridSearchCV</label><div class=\"sk-toggleable__content\"><pre>HalvingGridSearchCV(estimator=Pipeline(steps=[(&#x27;scaler&#x27;, StandardScaler()),\n",
       "                                              (&#x27;DecisionTreeRegressor&#x27;,\n",
       "                                               DecisionTreeRegressor())]),\n",
       "                    max_resources=10,\n",
       "                    param_grid={&#x27;DecisionTreeRegressor__criterion&#x27;: [&#x27;absolute_error&#x27;],\n",
       "                                &#x27;DecisionTreeRegressor__max_depth&#x27;: [None, 5,\n",
       "                                                                     10, 15, 20,\n",
       "                                                                     50, 100,\n",
       "                                                                     500],\n",
       "                                &#x27;DecisionTreeRegressor__max_features&#x27;: [&#x27;sqrt&#x27;,\n",
       "                                                                        &#x27;log2&#x27;],\n",
       "                                &#x27;DecisionTreeRegressor__min_samples_leaf&#x27;: [1,\n",
       "                                                                            2,\n",
       "                                                                            4],\n",
       "                                &#x27;DecisionTreeRegressor__min_samples_split&#x27;: [2,\n",
       "                                                                             5,\n",
       "                                                                             10],\n",
       "                                &#x27;DecisionTreeRegressor__min_weight_fraction_leaf&#x27;: [0.0,\n",
       "                                                                                    0.5,\n",
       "                                                                                    0.8]},\n",
       "                    random_state=0, scoring=&#x27;neg_mean_absolute_error&#x27;)</pre></div></div></div><div class=\"sk-parallel\"><div class=\"sk-parallel-item\"><div class=\"sk-item\"><div class=\"sk-label-container\"><div class=\"sk-label sk-toggleable\"><input class=\"sk-toggleable__control sk-hidden--visually\" id=\"sk-estimator-id-10\" type=\"checkbox\" ><label for=\"sk-estimator-id-10\" class=\"sk-toggleable__label sk-toggleable__label-arrow\">estimator: Pipeline</label><div class=\"sk-toggleable__content\"><pre>Pipeline(steps=[(&#x27;scaler&#x27;, StandardScaler()),\n",
       "                (&#x27;DecisionTreeRegressor&#x27;, DecisionTreeRegressor())])</pre></div></div></div><div class=\"sk-serial\"><div class=\"sk-item\"><div class=\"sk-serial\"><div class=\"sk-item\"><div class=\"sk-estimator sk-toggleable\"><input class=\"sk-toggleable__control sk-hidden--visually\" id=\"sk-estimator-id-11\" type=\"checkbox\" ><label for=\"sk-estimator-id-11\" class=\"sk-toggleable__label sk-toggleable__label-arrow\">StandardScaler</label><div class=\"sk-toggleable__content\"><pre>StandardScaler()</pre></div></div></div><div class=\"sk-item\"><div class=\"sk-estimator sk-toggleable\"><input class=\"sk-toggleable__control sk-hidden--visually\" id=\"sk-estimator-id-12\" type=\"checkbox\" ><label for=\"sk-estimator-id-12\" class=\"sk-toggleable__label sk-toggleable__label-arrow\">DecisionTreeRegressor</label><div class=\"sk-toggleable__content\"><pre>DecisionTreeRegressor()</pre></div></div></div></div></div></div></div></div></div></div></div></div>"
      ],
      "text/plain": [
       "HalvingGridSearchCV(estimator=Pipeline(steps=[('scaler', StandardScaler()),\n",
       "                                              ('DecisionTreeRegressor',\n",
       "                                               DecisionTreeRegressor())]),\n",
       "                    max_resources=10,\n",
       "                    param_grid={'DecisionTreeRegressor__criterion': ['absolute_error'],\n",
       "                                'DecisionTreeRegressor__max_depth': [None, 5,\n",
       "                                                                     10, 15, 20,\n",
       "                                                                     50, 100,\n",
       "                                                                     500],\n",
       "                                'DecisionTreeRegressor__max_features': ['sqrt',\n",
       "                                                                        'log2'],\n",
       "                                'DecisionTreeRegressor__min_samples_leaf': [1,\n",
       "                                                                            2,\n",
       "                                                                            4],\n",
       "                                'DecisionTreeRegressor__min_samples_split': [2,\n",
       "                                                                             5,\n",
       "                                                                             10],\n",
       "                                'DecisionTreeRegressor__min_weight_fraction_leaf': [0.0,\n",
       "                                                                                    0.5,\n",
       "                                                                                    0.8]},\n",
       "                    random_state=0, scoring='neg_mean_absolute_error')"
      ]
     },
     "execution_count": 31,
     "metadata": {},
     "output_type": "execute_result"
    }
   ],
   "source": [
    "dtr_param_grid = {\n",
    "    'DecisionTreeRegressor__max_depth': [None, 5, 10, 15, 20, 50, 100, 500],\n",
    "    'DecisionTreeRegressor__min_samples_split': [2, 5, 10],\n",
    "    'DecisionTreeRegressor__min_samples_leaf': [1, 2, 4],\n",
    "    'DecisionTreeRegressor__max_features': ['sqrt', 'log2'],\n",
    "    'DecisionTreeRegressor__min_weight_fraction_leaf': [0.0, 0.5, 0.8],\n",
    "    'DecisionTreeRegressor__criterion': ['absolute_error']\n",
    "}\n",
    "\n",
    "dtr_pipe = Pipeline([('scaler', StandardScaler()),\n",
    "                     ('DecisionTreeRegressor', DecisionTreeRegressor())])\n",
    "\n",
    "dtr_cv = HalvingGridSearchCV(estimator=dtr_pipe, cv=5, param_grid=dtr_param_grid, scoring='neg_mean_absolute_error',\n",
    "                             max_resources=10, random_state=0)\n",
    "\n",
    "dtr_cv.fit(X_train, y_train)"
   ]
  },
  {
   "cell_type": "code",
   "execution_count": 32,
   "id": "a88ff603-f4b1-4852-98a8-f104b3056f11",
   "metadata": {},
   "outputs": [
    {
     "data": {
      "text/plain": [
       "{'DecisionTreeRegressor__criterion': 'absolute_error',\n",
       " 'DecisionTreeRegressor__max_depth': None,\n",
       " 'DecisionTreeRegressor__max_features': 'sqrt',\n",
       " 'DecisionTreeRegressor__min_samples_leaf': 2,\n",
       " 'DecisionTreeRegressor__min_samples_split': 2,\n",
       " 'DecisionTreeRegressor__min_weight_fraction_leaf': 0.0}"
      ]
     },
     "execution_count": 32,
     "metadata": {},
     "output_type": "execute_result"
    }
   ],
   "source": [
    "dtr_cv.best_params_"
   ]
  },
  {
   "cell_type": "code",
   "execution_count": 38,
   "id": "9292eaab-9fd9-4f5e-a87f-fe184dc39d31",
   "metadata": {},
   "outputs": [
    {
     "data": {
      "text/plain": [
       "0.05463922859551869"
      ]
     },
     "execution_count": 38,
     "metadata": {},
     "output_type": "execute_result"
    }
   ],
   "source": [
    "np.mean(np.abs(y_test - dtr_cv.predict(X_test)))"
   ]
  },
  {
   "cell_type": "markdown",
   "id": "c4e951e8-a363-4bbd-97be-6b59a9ad555a",
   "metadata": {},
   "source": [
    "### CatBoostRegressor"
   ]
  },
  {
   "cell_type": "code",
   "execution_count": 39,
   "id": "5b0a934d-0c71-4339-ab98-94abf81e1c53",
   "metadata": {},
   "outputs": [],
   "source": [
    "%%capture\n",
    "%%time\n",
    "param_cbr = {\n",
    "    'CatBoostRegressor__iterations': [100, 200, 500, 1000, 1500],\n",
    "    'CatBoostRegressor__learning_rate': np.arange(0.001, 0.011, 0.002),\n",
    "    'CatBoostRegressor__depth': np.arange(4, 11, 2),\n",
    "    'CatBoostRegressor__l2_leaf_reg': np.arange(2, 11, 2),\n",
    "    'CatBoostRegressor__random_strength': np.arange(0, 11, 2),\n",
    "}\n",
    "\n",
    "pipe_cbr = Pipeline([('scaler', StandardScaler()),\n",
    "                     ('CatBoostRegressor', CatBoostRegressor())])\n",
    "\n",
    "cbr_cv = HalvingGridSearchCV(estimator=pipe_cbr, cv=3, param_grid=param_cbr, scoring='neg_mean_absolute_error',\n",
    "                             max_resources=10, random_state=0)\n",
    "\n",
    "cbr_cv.fit(X_train, y_train)"
   ]
  },
  {
   "cell_type": "code",
   "execution_count": 41,
   "id": "ab587790-c9c0-49c1-8e3f-066ad3a1c7e8",
   "metadata": {},
   "outputs": [
    {
     "data": {
      "text/plain": [
       "{'CatBoostRegressor__depth': 4,\n",
       " 'CatBoostRegressor__iterations': 1000,\n",
       " 'CatBoostRegressor__l2_leaf_reg': 6,\n",
       " 'CatBoostRegressor__learning_rate': 0.009000000000000001,\n",
       " 'CatBoostRegressor__random_strength': 0}"
      ]
     },
     "execution_count": 41,
     "metadata": {},
     "output_type": "execute_result"
    }
   ],
   "source": [
    "cbr_cv.best_params_"
   ]
  },
  {
   "cell_type": "code",
   "execution_count": 42,
   "id": "8d2c95ca-20f3-49e4-b39c-80f8ff469a84",
   "metadata": {},
   "outputs": [
    {
     "data": {
      "text/plain": [
       "0.06176984444255147"
      ]
     },
     "execution_count": 42,
     "metadata": {},
     "output_type": "execute_result"
    }
   ],
   "source": [
    "np.mean(np.abs(y_train - cbr_cv.predict(X_train)))"
   ]
  },
  {
   "cell_type": "markdown",
   "id": "6ced5694-7e9a-4a9d-a65b-d7996e6b406b",
   "metadata": {},
   "source": [
    "### KNeighborsRegressor"
   ]
  },
  {
   "cell_type": "code",
   "execution_count": 44,
   "id": "03b510ed-b2d5-424f-b0da-64394e231177",
   "metadata": {},
   "outputs": [],
   "source": [
    "%%capture\n",
    "%%time\n",
    "param_knn = {\n",
    "    'KNeighborsRegressor__n_neighbors': [3, 5, 7, 9], \n",
    "    'KNeighborsRegressor__weights': ['uniform', 'distance'], \n",
    "    'KNeighborsRegressor__algorithm': ['auto', 'ball_tree', 'kd_tree', 'brute'],\n",
    "    'KNeighborsRegressor__p': [1, 2],\n",
    "    'KNeighborsRegressor__metric': ['euclidean', 'manhattan', 'chebyshev']\n",
    "}\n",
    "\n",
    "pipe_knn = Pipeline([('scaler', StandardScaler()),\n",
    "                     ('KNeighborsRegressor', KNeighborsRegressor())])\n",
    "\n",
    "knn_cv = HalvingGridSearchCV(estimator=pipe_knn, cv=3, param_grid=param_knn, scoring='neg_mean_absolute_error',\n",
    "                             max_resources=10, random_state=0)\n",
    "\n",
    "knn_cv.fit(X_train, y_train)"
   ]
  },
  {
   "cell_type": "code",
   "execution_count": 45,
   "id": "11ea6d50-80b1-42bf-9d85-98fa1e57084f",
   "metadata": {},
   "outputs": [
    {
     "data": {
      "text/plain": [
       "{'KNeighborsRegressor__algorithm': 'auto',\n",
       " 'KNeighborsRegressor__metric': 'manhattan',\n",
       " 'KNeighborsRegressor__n_neighbors': 3,\n",
       " 'KNeighborsRegressor__p': 1,\n",
       " 'KNeighborsRegressor__weights': 'distance'}"
      ]
     },
     "execution_count": 45,
     "metadata": {},
     "output_type": "execute_result"
    }
   ],
   "source": [
    "knn_cv.best_params_"
   ]
  },
  {
   "cell_type": "code",
   "execution_count": 46,
   "id": "083945b3-9092-4a58-9867-c10b5e3419e7",
   "metadata": {},
   "outputs": [
    {
     "data": {
      "text/plain": [
       "0.0"
      ]
     },
     "execution_count": 46,
     "metadata": {},
     "output_type": "execute_result"
    }
   ],
   "source": [
    "np.mean(np.abs(y_train - knn_cv.predict(X_train)))"
   ]
  },
  {
   "cell_type": "code",
   "execution_count": 47,
   "id": "fe9750f2-0fb2-4665-aad3-989b1f7fd1df",
   "metadata": {},
   "outputs": [
    {
     "data": {
      "text/plain": [
       "0.04044780325013412"
      ]
     },
     "execution_count": 47,
     "metadata": {},
     "output_type": "execute_result"
    }
   ],
   "source": [
    "np.mean(np.abs(y_test - knn_cv.predict(X_test)))"
   ]
  },
  {
   "cell_type": "markdown",
   "id": "56a6f0f3-785b-49ec-9a17-bb05393f1e40",
   "metadata": {},
   "source": [
    "## Stacking"
   ]
  },
  {
   "cell_type": "code",
   "execution_count": 62,
   "id": "1cd7a975-855b-44de-ad28-ac18dd4acc00",
   "metadata": {},
   "outputs": [],
   "source": [
    "from sklearn.ensemble import StackingRegressor\n",
    "\n",
    "pipe_knn = Pipeline([('scaler', StandardScaler()),\n",
    "                    ('KNeighborsRegressor', KNeighborsRegressor(algorithm='auto', metric='manhattan', n_neighbors=3,\n",
    "                                                                p=1, weights='distance'))])\n",
    "pipe_decision = Pipeline([('scaler', StandardScaler()),\n",
    "                          ('DecisionTreeRegressor', DecisionTreeRegressor(criterion='absolute_error', max_depth=None,\n",
    "                                                                          max_features='sqrt', min_samples_leaf=2,\n",
    "                                                                          min_samples_split=2, min_weight_fraction_leaf=0.0))])\n",
    "\n",
    "\n",
    "estimators = [\n",
    "    ('KNN', pipe_knn),\n",
    "    ('DTR', pipe_decision)\n",
    "]\n",
    "\n",
    "final_estimator = CatBoostRegressor(depth=4, iterations=1000, l2_leaf_reg=6, learning_rate=0.009, random_strength=0)\n",
    "\n",
    "stacking_model = StackingRegressor(\n",
    "    estimators=estimators,\n",
    "    final_estimator=final_estimator,\n",
    "    cv=3\n",
    ")"
   ]
  },
  {
   "cell_type": "code",
   "execution_count": 63,
   "id": "42919e62-2206-41bf-8ea8-bcbd3cb26db1",
   "metadata": {},
   "outputs": [
    {
     "name": "stdout",
     "output_type": "stream",
     "text": [
      "CPU times: total: 6.97 s\n",
      "Wall time: 1.63 s\n"
     ]
    }
   ],
   "source": [
    "%%time\n",
    "%%capture\n",
    "stacking_model.fit(X_train, y_train)"
   ]
  },
  {
   "cell_type": "code",
   "execution_count": 64,
   "id": "d626d1d7-d9ed-478c-b7d6-51fde942e76b",
   "metadata": {},
   "outputs": [
    {
     "data": {
      "text/plain": [
       "0.022611620053197213"
      ]
     },
     "execution_count": 64,
     "metadata": {},
     "output_type": "execute_result"
    }
   ],
   "source": [
    "np.mean(np.abs(y_train - stacking_model.predict(X_train)))"
   ]
  },
  {
   "cell_type": "code",
   "execution_count": 65,
   "id": "501e1352-b618-4c9a-a141-10f8a9f2c59e",
   "metadata": {},
   "outputs": [
    {
     "data": {
      "text/plain": [
       "0.039215939964111275"
      ]
     },
     "execution_count": 65,
     "metadata": {},
     "output_type": "execute_result"
    }
   ],
   "source": [
    "np.mean(np.abs(y_test - stacking_model.predict(X_test)))"
   ]
  },
  {
   "cell_type": "markdown",
   "id": "99b6fb0e-cadc-496b-9e4f-d5dcb2568c99",
   "metadata": {},
   "source": [
    "### Another Stacking"
   ]
  },
  {
   "cell_type": "code",
   "execution_count": 208,
   "id": "600f4a7d-bb06-46c5-b933-e70aa2cea2ba",
   "metadata": {},
   "outputs": [],
   "source": [
    "from sklearn.preprocessing import MinMaxScaler\n",
    "\n",
    "pipe_stack = Pipeline([('scaler', StandardScaler()),\n",
    "                       ('Stack', stacking_model)])\n",
    "\n",
    "pipe_decis_1 = Pipeline([('scaler', MinMaxScaler()),\n",
    "                          ('DecisionTreeRegressor', DecisionTreeRegressor(criterion='absolute_error', max_depth=None,\n",
    "                                                                          max_features='sqrt', min_samples_leaf=2,\n",
    "                                                                          min_samples_split=2, min_weight_fraction_leaf=0.0))])\n",
    "estimators_1 = [\n",
    "    ('stack', pipe_stack),\n",
    "    ('decis_1', pipe_decis_1)\n",
    "]\n",
    "\n",
    "final_estimator_1 = CatBoostRegressor(depth=4, iterations=1000, l2_leaf_reg=6, learning_rate=0.009, random_strength=0)\n",
    "\n",
    "stacking_model_1 = StackingRegressor(\n",
    "    estimators=estimators_1,\n",
    "    final_estimator=final_estimator_1,\n",
    "    cv=3\n",
    ")"
   ]
  },
  {
   "cell_type": "code",
   "execution_count": 209,
   "id": "79b34e22-24cd-48f4-9e6c-13aa274963d4",
   "metadata": {},
   "outputs": [
    {
     "name": "stdout",
     "output_type": "stream",
     "text": [
      "CPU times: total: 41.1 s\n",
      "Wall time: 10.4 s\n"
     ]
    }
   ],
   "source": [
    "%%time\n",
    "%%capture\n",
    "stacking_model_1.fit(X_train, y_train)"
   ]
  },
  {
   "cell_type": "markdown",
   "id": "0c5a3e38-a121-461f-8982-6d2b46f491fd",
   "metadata": {},
   "source": [
    "## Итоговый MAE"
   ]
  },
  {
   "cell_type": "code",
   "execution_count": 210,
   "id": "522d9d63-a6ee-4e6a-9790-949aad3e46e7",
   "metadata": {},
   "outputs": [
    {
     "data": {
      "text/plain": [
       "0.021688905879810805"
      ]
     },
     "execution_count": 210,
     "metadata": {},
     "output_type": "execute_result"
    }
   ],
   "source": [
    "np.mean(np.abs(y_train - stacking_model_1.predict(X_train)))"
   ]
  },
  {
   "cell_type": "code",
   "execution_count": 211,
   "id": "6fddc5be-aa0a-47f6-b288-3c57a45a121c",
   "metadata": {},
   "outputs": [
    {
     "data": {
      "text/plain": [
       "0.03806004152804886"
      ]
     },
     "execution_count": 211,
     "metadata": {},
     "output_type": "execute_result"
    }
   ],
   "source": [
    "np.mean(np.abs(y_test - stacking_model_1.predict(X_test)))"
   ]
  },
  {
   "cell_type": "markdown",
   "id": "0d7a3dcb-65da-463e-9f41-88a4cb590b23",
   "metadata": {},
   "source": [
    "### Экспорт модели"
   ]
  },
  {
   "cell_type": "code",
   "execution_count": 212,
   "id": "a8f68071-d0fb-4ad4-a0b8-39bbc0acd040",
   "metadata": {},
   "outputs": [],
   "source": [
    "import pickle\n",
    "\n",
    "pickle.dump(stacking_model_1, open('model.sav', 'wb'))"
   ]
  },
  {
   "cell_type": "code",
   "execution_count": null,
   "id": "94412357-ed12-4607-bac0-bee5ee2044c4",
   "metadata": {},
   "outputs": [],
   "source": []
  }
 ],
 "metadata": {
  "kernelspec": {
   "display_name": "Python 3 (ipykernel)",
   "language": "python",
   "name": "python3"
  },
  "language_info": {
   "codemirror_mode": {
    "name": "ipython",
    "version": 3
   },
   "file_extension": ".py",
   "mimetype": "text/x-python",
   "name": "python",
   "nbconvert_exporter": "python",
   "pygments_lexer": "ipython3",
   "version": "3.10.12"
  }
 },
 "nbformat": 4,
 "nbformat_minor": 5
}
