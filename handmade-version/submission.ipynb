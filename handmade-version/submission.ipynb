{
 "cells": [
  {
   "cell_type": "markdown",
   "id": "f2445b28-e948-43e1-b5ef-c6cf311490eb",
   "metadata": {},
   "source": [
    "# Экспорт предсказаний"
   ]
  },
  {
   "cell_type": "code",
   "execution_count": 2,
   "id": "f6e545b7-d306-45fa-8e34-86b57637a3e7",
   "metadata": {},
   "outputs": [],
   "source": [
    "import pandas as pd\n",
    "import numpy as np\n",
    "import pickle"
   ]
  },
  {
   "cell_type": "code",
   "execution_count": 3,
   "id": "f3b35136-9743-49b3-9c45-357ee722a242",
   "metadata": {},
   "outputs": [],
   "source": [
    "model = pickle.load(open('./model/stacking_regressor_model.sav', 'rb'))"
   ]
  },
  {
   "cell_type": "code",
   "execution_count": 4,
   "id": "1b8789f4-3949-466c-81b0-3ec27896c454",
   "metadata": {},
   "outputs": [
    {
     "data": {
      "text/html": [
       "<style>#sk-container-id-1 {color: black;background-color: white;}#sk-container-id-1 pre{padding: 0;}#sk-container-id-1 div.sk-toggleable {background-color: white;}#sk-container-id-1 label.sk-toggleable__label {cursor: pointer;display: block;width: 100%;margin-bottom: 0;padding: 0.3em;box-sizing: border-box;text-align: center;}#sk-container-id-1 label.sk-toggleable__label-arrow:before {content: \"▸\";float: left;margin-right: 0.25em;color: #696969;}#sk-container-id-1 label.sk-toggleable__label-arrow:hover:before {color: black;}#sk-container-id-1 div.sk-estimator:hover label.sk-toggleable__label-arrow:before {color: black;}#sk-container-id-1 div.sk-toggleable__content {max-height: 0;max-width: 0;overflow: hidden;text-align: left;background-color: #f0f8ff;}#sk-container-id-1 div.sk-toggleable__content pre {margin: 0.2em;color: black;border-radius: 0.25em;background-color: #f0f8ff;}#sk-container-id-1 input.sk-toggleable__control:checked~div.sk-toggleable__content {max-height: 200px;max-width: 100%;overflow: auto;}#sk-container-id-1 input.sk-toggleable__control:checked~label.sk-toggleable__label-arrow:before {content: \"▾\";}#sk-container-id-1 div.sk-estimator input.sk-toggleable__control:checked~label.sk-toggleable__label {background-color: #d4ebff;}#sk-container-id-1 div.sk-label input.sk-toggleable__control:checked~label.sk-toggleable__label {background-color: #d4ebff;}#sk-container-id-1 input.sk-hidden--visually {border: 0;clip: rect(1px 1px 1px 1px);clip: rect(1px, 1px, 1px, 1px);height: 1px;margin: -1px;overflow: hidden;padding: 0;position: absolute;width: 1px;}#sk-container-id-1 div.sk-estimator {font-family: monospace;background-color: #f0f8ff;border: 1px dotted black;border-radius: 0.25em;box-sizing: border-box;margin-bottom: 0.5em;}#sk-container-id-1 div.sk-estimator:hover {background-color: #d4ebff;}#sk-container-id-1 div.sk-parallel-item::after {content: \"\";width: 100%;border-bottom: 1px solid gray;flex-grow: 1;}#sk-container-id-1 div.sk-label:hover label.sk-toggleable__label {background-color: #d4ebff;}#sk-container-id-1 div.sk-serial::before {content: \"\";position: absolute;border-left: 1px solid gray;box-sizing: border-box;top: 0;bottom: 0;left: 50%;z-index: 0;}#sk-container-id-1 div.sk-serial {display: flex;flex-direction: column;align-items: center;background-color: white;padding-right: 0.2em;padding-left: 0.2em;position: relative;}#sk-container-id-1 div.sk-item {position: relative;z-index: 1;}#sk-container-id-1 div.sk-parallel {display: flex;align-items: stretch;justify-content: center;background-color: white;position: relative;}#sk-container-id-1 div.sk-item::before, #sk-container-id-1 div.sk-parallel-item::before {content: \"\";position: absolute;border-left: 1px solid gray;box-sizing: border-box;top: 0;bottom: 0;left: 50%;z-index: -1;}#sk-container-id-1 div.sk-parallel-item {display: flex;flex-direction: column;z-index: 1;position: relative;background-color: white;}#sk-container-id-1 div.sk-parallel-item:first-child::after {align-self: flex-end;width: 50%;}#sk-container-id-1 div.sk-parallel-item:last-child::after {align-self: flex-start;width: 50%;}#sk-container-id-1 div.sk-parallel-item:only-child::after {width: 0;}#sk-container-id-1 div.sk-dashed-wrapped {border: 1px dashed gray;margin: 0 0.4em 0.5em 0.4em;box-sizing: border-box;padding-bottom: 0.4em;background-color: white;}#sk-container-id-1 div.sk-label label {font-family: monospace;font-weight: bold;display: inline-block;line-height: 1.2em;}#sk-container-id-1 div.sk-label-container {text-align: center;}#sk-container-id-1 div.sk-container {/* jupyter's `normalize.less` sets `[hidden] { display: none; }` but bootstrap.min.css set `[hidden] { display: none !important; }` so we also need the `!important` here to be able to override the default hidden behavior on the sphinx rendered scikit-learn.org. See: https://github.com/scikit-learn/scikit-learn/issues/21755 */display: inline-block !important;position: relative;}#sk-container-id-1 div.sk-text-repr-fallback {display: none;}</style><div id=\"sk-container-id-1\" class=\"sk-top-container\"><div class=\"sk-text-repr-fallback\"><pre>StackingRegressor(cv=3,\n",
       "                  estimators=[(&#x27;RF&#x27;,\n",
       "                               Pipeline(steps=[(&#x27;scaler&#x27;, StandardScaler()),\n",
       "                                               (&#x27;RandomForestRegressor&#x27;,\n",
       "                                                RandomForestRegressor(max_depth=10,\n",
       "                                                                      max_features=&#x27;sqrt&#x27;,\n",
       "                                                                      min_samples_leaf=4,\n",
       "                                                                      n_estimators=200))])),\n",
       "                              (&#x27;CBR&#x27;,\n",
       "                               Pipeline(steps=[(&#x27;scaler&#x27;, StandardScaler()),\n",
       "                                               (&#x27;CatBoostRegressor&#x27;,\n",
       "                                                &lt;catboost.core.CatBoostRegressor object at 0x00000216965D9360&gt;)]))],\n",
       "                  final_estimator=DecisionTreeRegressor(criterion=&#x27;absolute_error&#x27;,\n",
       "                                                        max_depth=20,\n",
       "                                                        max_features=&#x27;sqrt&#x27;,\n",
       "                                                        min_samples_leaf=2,\n",
       "                                                        min_samples_split=5,\n",
       "                                                        min_weight_fraction_leaf=0.5))</pre><b>In a Jupyter environment, please rerun this cell to show the HTML representation or trust the notebook. <br />On GitHub, the HTML representation is unable to render, please try loading this page with nbviewer.org.</b></div><div class=\"sk-container\" hidden><div class=\"sk-item sk-dashed-wrapped\"><div class=\"sk-label-container\"><div class=\"sk-label sk-toggleable\"><input class=\"sk-toggleable__control sk-hidden--visually\" id=\"sk-estimator-id-1\" type=\"checkbox\" ><label for=\"sk-estimator-id-1\" class=\"sk-toggleable__label sk-toggleable__label-arrow\">StackingRegressor</label><div class=\"sk-toggleable__content\"><pre>StackingRegressor(cv=3,\n",
       "                  estimators=[(&#x27;RF&#x27;,\n",
       "                               Pipeline(steps=[(&#x27;scaler&#x27;, StandardScaler()),\n",
       "                                               (&#x27;RandomForestRegressor&#x27;,\n",
       "                                                RandomForestRegressor(max_depth=10,\n",
       "                                                                      max_features=&#x27;sqrt&#x27;,\n",
       "                                                                      min_samples_leaf=4,\n",
       "                                                                      n_estimators=200))])),\n",
       "                              (&#x27;CBR&#x27;,\n",
       "                               Pipeline(steps=[(&#x27;scaler&#x27;, StandardScaler()),\n",
       "                                               (&#x27;CatBoostRegressor&#x27;,\n",
       "                                                &lt;catboost.core.CatBoostRegressor object at 0x00000216965D9360&gt;)]))],\n",
       "                  final_estimator=DecisionTreeRegressor(criterion=&#x27;absolute_error&#x27;,\n",
       "                                                        max_depth=20,\n",
       "                                                        max_features=&#x27;sqrt&#x27;,\n",
       "                                                        min_samples_leaf=2,\n",
       "                                                        min_samples_split=5,\n",
       "                                                        min_weight_fraction_leaf=0.5))</pre></div></div></div><div class=\"sk-serial\"><div class=\"sk-item\"><div class=\"sk-parallel\"><div class=\"sk-parallel-item\"><div class=\"sk-item\"><div class=\"sk-label-container\"><div class=\"sk-label sk-toggleable\"><label>RF</label></div></div><div class=\"sk-serial\"><div class=\"sk-item\"><div class=\"sk-serial\"><div class=\"sk-item\"><div class=\"sk-estimator sk-toggleable\"><input class=\"sk-toggleable__control sk-hidden--visually\" id=\"sk-estimator-id-2\" type=\"checkbox\" ><label for=\"sk-estimator-id-2\" class=\"sk-toggleable__label sk-toggleable__label-arrow\">StandardScaler</label><div class=\"sk-toggleable__content\"><pre>StandardScaler()</pre></div></div></div><div class=\"sk-item\"><div class=\"sk-estimator sk-toggleable\"><input class=\"sk-toggleable__control sk-hidden--visually\" id=\"sk-estimator-id-3\" type=\"checkbox\" ><label for=\"sk-estimator-id-3\" class=\"sk-toggleable__label sk-toggleable__label-arrow\">RandomForestRegressor</label><div class=\"sk-toggleable__content\"><pre>RandomForestRegressor(max_depth=10, max_features=&#x27;sqrt&#x27;, min_samples_leaf=4,\n",
       "                      n_estimators=200)</pre></div></div></div></div></div></div></div></div><div class=\"sk-parallel-item\"><div class=\"sk-item\"><div class=\"sk-label-container\"><div class=\"sk-label sk-toggleable\"><label>CBR</label></div></div><div class=\"sk-serial\"><div class=\"sk-item\"><div class=\"sk-serial\"><div class=\"sk-item\"><div class=\"sk-estimator sk-toggleable\"><input class=\"sk-toggleable__control sk-hidden--visually\" id=\"sk-estimator-id-4\" type=\"checkbox\" ><label for=\"sk-estimator-id-4\" class=\"sk-toggleable__label sk-toggleable__label-arrow\">StandardScaler</label><div class=\"sk-toggleable__content\"><pre>StandardScaler()</pre></div></div></div><div class=\"sk-item\"><div class=\"sk-estimator sk-toggleable\"><input class=\"sk-toggleable__control sk-hidden--visually\" id=\"sk-estimator-id-5\" type=\"checkbox\" ><label for=\"sk-estimator-id-5\" class=\"sk-toggleable__label sk-toggleable__label-arrow\">CatBoostRegressor</label><div class=\"sk-toggleable__content\"><pre>&lt;catboost.core.CatBoostRegressor object at 0x00000216965D9360&gt;</pre></div></div></div></div></div></div></div></div></div></div><div class=\"sk-item\"><div class=\"sk-parallel\"><div class=\"sk-parallel-item\"><div class=\"sk-item\"><div class=\"sk-label-container\"><div class=\"sk-label sk-toggleable\"><label>final_estimator</label></div></div><div class=\"sk-serial\"><div class=\"sk-item\"><div class=\"sk-estimator sk-toggleable\"><input class=\"sk-toggleable__control sk-hidden--visually\" id=\"sk-estimator-id-6\" type=\"checkbox\" ><label for=\"sk-estimator-id-6\" class=\"sk-toggleable__label sk-toggleable__label-arrow\">DecisionTreeRegressor</label><div class=\"sk-toggleable__content\"><pre>DecisionTreeRegressor(criterion=&#x27;absolute_error&#x27;, max_depth=20,\n",
       "                      max_features=&#x27;sqrt&#x27;, min_samples_leaf=2,\n",
       "                      min_samples_split=5, min_weight_fraction_leaf=0.5)</pre></div></div></div></div></div></div></div></div></div></div></div></div>"
      ],
      "text/plain": [
       "StackingRegressor(cv=3,\n",
       "                  estimators=[('RF',\n",
       "                               Pipeline(steps=[('scaler', StandardScaler()),\n",
       "                                               ('RandomForestRegressor',\n",
       "                                                RandomForestRegressor(max_depth=10,\n",
       "                                                                      max_features='sqrt',\n",
       "                                                                      min_samples_leaf=4,\n",
       "                                                                      n_estimators=200))])),\n",
       "                              ('CBR',\n",
       "                               Pipeline(steps=[('scaler', StandardScaler()),\n",
       "                                               ('CatBoostRegressor',\n",
       "                                                <catboost.core.CatBoostRegressor object at 0x00000216965D9360>)]))],\n",
       "                  final_estimator=DecisionTreeRegressor(criterion='absolute_error',\n",
       "                                                        max_depth=20,\n",
       "                                                        max_features='sqrt',\n",
       "                                                        min_samples_leaf=2,\n",
       "                                                        min_samples_split=5,\n",
       "                                                        min_weight_fraction_leaf=0.5))"
      ]
     },
     "execution_count": 4,
     "metadata": {},
     "output_type": "execute_result"
    }
   ],
   "source": [
    "model"
   ]
  },
  {
   "cell_type": "code",
   "execution_count": 5,
   "id": "ff242257-afb9-432d-9e77-f072e13259e5",
   "metadata": {},
   "outputs": [],
   "source": [
    "test_data = pd.read_csv('./data/test.csv', index_col='id')\n",
    "features = pd.read_csv('./data/features.csv', index_col='id')"
   ]
  },
  {
   "cell_type": "code",
   "execution_count": 6,
   "id": "8eaa068d-f801-4fcd-8133-2c85764c8299",
   "metadata": {},
   "outputs": [],
   "source": [
    "def preprocessing_data(dataset):\n",
    "    step = 5\n",
    "    features['lat_bin'] = (features['lat'] // step) * step\n",
    "    features['lon_bin'] = (features['lon'] // step) * step\n",
    "    \n",
    "    grouped_features_df = features.groupby(['lat_bin', 'lon_bin']).mean().reset_index()\n",
    "    \n",
    "    dataset['lat_bin'] = (dataset['lat'] // step) * step\n",
    "    dataset['lon_bin'] = (dataset['lon'] // step) * step\n",
    "    \n",
    "    merged_df = pd.merge(dataset, grouped_features_df, on=['lat_bin', 'lon_bin'], how='left')\n",
    "    merged_df.drop(['lat_bin', 'lon_bin'], axis=1, inplace=True)\n",
    "\n",
    "    merged_df = merged_df.drop(['lat_y', 'lon_y'], axis=1)\n",
    "    merged_df['id'] = range(2001, 3001)\n",
    "    merged_df = merged_df.set_index('id')\n",
    "\n",
    "    X = merged_df.copy()\n",
    "    \n",
    "    feature_1 = np.sin(X['feature_1_normal']) + np.log10(X['feature_2_binomial_1']) - \\\n",
    "    np.cos(X['feature_1_normal']) * np.exp(X['feature_3_binomial_2']) * np.sqrt(np.abs(X['feature_4_gamma']))\n",
    "\n",
    "    feature_2 = np.exp(X['feature_3_binomial_2']) * np.sqrt(abs(X['feature_2_binomial_1'])) * np.log(X['feature_1_normal']) / np.sqrt(abs(X['feature_4_gamma']))\n",
    "    \n",
    "    feature_1_df = pd.DataFrame(data=feature_1, columns=['new_feature_1'])\n",
    "    feature_2_df = pd.DataFrame(data=feature_2, columns=['new_feature_2'])\n",
    "    \n",
    "    new_merged_df = merged_df.merge(feature_1_df, on='id')\n",
    "    new_merged_df = new_merged_df.merge(feature_2_df, on='id')\n",
    "\n",
    "    return new_merged_df"
   ]
  },
  {
   "cell_type": "code",
   "execution_count": 7,
   "id": "fa7b4b5b-50de-47f1-917b-7ad3148c933f",
   "metadata": {},
   "outputs": [],
   "source": [
    "final_data = preprocessing_data(test_data)"
   ]
  },
  {
   "cell_type": "code",
   "execution_count": 8,
   "id": "af4846ba-648d-4d1e-ba34-24fcb3fe6b8e",
   "metadata": {},
   "outputs": [],
   "source": [
    "result = model.predict(final_data).reshape(-1, 1)"
   ]
  },
  {
   "cell_type": "code",
   "execution_count": 9,
   "id": "b8b6de84-12fa-49f6-8956-36a17ce60c2a",
   "metadata": {},
   "outputs": [],
   "source": [
    "data = {\n",
    "    'id': test_data.reset_index()['id'],\n",
    "    'score': result[:, 0]\n",
    "}"
   ]
  },
  {
   "cell_type": "code",
   "execution_count": 10,
   "id": "c6c53db4-a68e-45d8-8f78-bc20a4b08b32",
   "metadata": {},
   "outputs": [],
   "source": [
    "submission = pd.DataFrame(data=data)\n",
    "submission = submission.set_index('id')"
   ]
  },
  {
   "cell_type": "code",
   "execution_count": 11,
   "id": "9f10ade7-0e29-4f24-a07d-b3a40411d9b2",
   "metadata": {},
   "outputs": [],
   "source": [
    "submission.to_csv('submission.csv', index=False)"
   ]
  },
  {
   "cell_type": "code",
   "execution_count": null,
   "id": "fd426020-76b0-40c6-9fe8-c1dbd5385ec2",
   "metadata": {},
   "outputs": [],
   "source": []
  }
 ],
 "metadata": {
  "kernelspec": {
   "display_name": "Python 3 (ipykernel)",
   "language": "python",
   "name": "python3"
  },
  "language_info": {
   "codemirror_mode": {
    "name": "ipython",
    "version": 3
   },
   "file_extension": ".py",
   "mimetype": "text/x-python",
   "name": "python",
   "nbconvert_exporter": "python",
   "pygments_lexer": "ipython3",
   "version": "3.10.12"
  }
 },
 "nbformat": 4,
 "nbformat_minor": 5
}
