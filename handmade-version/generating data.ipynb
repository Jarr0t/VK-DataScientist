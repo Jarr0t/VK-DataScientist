{
 "cells": [
  {
   "cell_type": "markdown",
   "id": "17909dd6-b621-4727-84ef-90644dbd75a0",
   "metadata": {},
   "source": [
    "# Генерация выборки, train/test и features\n",
    "\n",
    "В этом блокноте находится код для создания датасетов *тренировочных* и *тестовых* данных. Так же, были созданы отдельные *признаки*, которые могут помочь лучше обучить модель для предсказания оценки объекта ритейла.\n",
    "\n",
    "🌍 В качестве координатов, были указаны примерное местоположение средней полосы России, чтобы задача была приближена к реальной.\n",
    "Широта: от `55.0` до `59.0`.\n",
    "Долгота: от `36.0` до `103.0`.\n",
    "\n",
    "\n",
    "В ходе создания `train.csv` и `test.csv`, данные были созданы с помощью функций `np.random.uniform()`, и `np.random.normal()`.\n",
    "\n",
    "*Размер тренировочной выборки* составляет **2000 объектов**.\n",
    "\n",
    "*Размер тестовой выборки* составляет **1000 объектов**"
   ]
  },
  {
   "cell_type": "code",
   "execution_count": 1,
   "id": "39175d46-89ca-41fc-8c42-c77204eda4b9",
   "metadata": {},
   "outputs": [],
   "source": [
    "import numpy as np\n",
    "import matplotlib.pyplot as plt\n",
    "import pandas as pd\n",
    "import seaborn as sns"
   ]
  },
  {
   "cell_type": "code",
   "execution_count": 2,
   "id": "0f68c12b-e911-41d8-a36b-386dbb04493f",
   "metadata": {},
   "outputs": [],
   "source": [
    "train_df = {\n",
    "    'id': range(1, 2001),\n",
    "    'lat': np.random.uniform(55.0, 59.0, 2000),\n",
    "    'lon': np.random.uniform(36.0, 103.0, 2000),\n",
    "    'score': np.random.normal(20, 7, 2000)\n",
    "}\n",
    "\n",
    "train_df = pd.DataFrame(train_df)"
   ]
  },
  {
   "cell_type": "code",
   "execution_count": 3,
   "id": "5db7d952-0da1-4e50-9957-a09af01142f7",
   "metadata": {},
   "outputs": [],
   "source": [
    "test_df = {\n",
    "    'id': range(2001, 3001),\n",
    "    'lat': np.random.uniform(55.0, 59.0, 1000),\n",
    "    'lon': np.random.uniform(36.0, 103.0, 1000)\n",
    "}\n",
    "\n",
    "test_df = pd.DataFrame(test_df)"
   ]
  },
  {
   "cell_type": "code",
   "execution_count": 4,
   "id": "ea5bc664-46e1-4159-94bd-976acf3564b9",
   "metadata": {},
   "outputs": [],
   "source": [
    "train_df.to_csv('./data/train.csv', index=False)\n",
    "test_df.to_csv('./data/test.csv', index=False)"
   ]
  }
 ],
 "metadata": {
  "kernelspec": {
   "display_name": "Python 3 (ipykernel)",
   "language": "python",
   "name": "python3"
  },
  "language_info": {
   "codemirror_mode": {
    "name": "ipython",
    "version": 3
   },
   "file_extension": ".py",
   "mimetype": "text/x-python",
   "name": "python",
   "nbconvert_exporter": "python",
   "pygments_lexer": "ipython3",
   "version": "3.10.12"
  }
 },
 "nbformat": 4,
 "nbformat_minor": 5
}
