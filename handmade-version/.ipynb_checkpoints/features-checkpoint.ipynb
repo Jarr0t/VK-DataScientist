{
 "cells": [
  {
   "cell_type": "markdown",
   "id": "13b281cd-82c3-4658-a767-7de1d18f3e75",
   "metadata": {},
   "source": [
    "## Создание features\n",
    "\n",
    "В качестве дополнительных признаков, были созданы различные распределения, такие как:\n",
    "\n",
    "1. Нормальное распределение\n",
    "2. Биномиальное распределение\n",
    "3. Гамма распределение\n",
    "\n",
    "* Каждый признак сможет в теории помочь лучше обучить модель на *тренировочных данных*, и получить лучший `MAE` на *тестовых данных*"
   ]
  },
  {
   "cell_type": "code",
   "execution_count": 1,
   "id": "38b3773f-8722-400b-a001-f4ea34711374",
   "metadata": {},
   "outputs": [],
   "source": [
    "import pandas as pd\n",
    "import numpy as np"
   ]
  },
  {
   "cell_type": "code",
   "execution_count": 2,
   "id": "35edeb6b-7d58-45fc-98ea-e6681b2aabc6",
   "metadata": {},
   "outputs": [],
   "source": [
    "features_df = {\n",
    "    'id': range(1, 3001),\n",
    "    'lat': np.random.uniform(55.0, 59.0, 3000),\n",
    "    'lon': np.random.uniform(36.0, 103.0, 3000),\n",
    "    'feature_1_normal': np.random.normal(5, 25, 3000),\n",
    "    'feature_2_binomial_1': np.random.binomial(5, 0.3, 3000),\n",
    "    'feature_3_binomial_2': np.random.binomial(7, 0.6, 3000),\n",
    "    'feature_4_gamma': np.random.gamma(3., 3., 3000)\n",
    "}\n",
    "\n",
    "features_df = pd.DataFrame(features_df)\n",
    "features_df.to_csv('./data/features.csv', index=False)"
   ]
  },
  {
   "cell_type": "code",
   "execution_count": null,
   "id": "eb7d2c8a-0c5f-4342-bbeb-25463f465bb4",
   "metadata": {},
   "outputs": [],
   "source": []
  }
 ],
 "metadata": {
  "kernelspec": {
   "display_name": "Python 3 (ipykernel)",
   "language": "python",
   "name": "python3"
  },
  "language_info": {
   "codemirror_mode": {
    "name": "ipython",
    "version": 3
   },
   "file_extension": ".py",
   "mimetype": "text/x-python",
   "name": "python",
   "nbconvert_exporter": "python",
   "pygments_lexer": "ipython3",
   "version": "3.10.12"
  }
 },
 "nbformat": 4,
 "nbformat_minor": 5
}
